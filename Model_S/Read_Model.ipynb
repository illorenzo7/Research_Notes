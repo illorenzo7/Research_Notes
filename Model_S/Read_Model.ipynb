{
 "cells": [
  {
   "cell_type": "code",
   "execution_count": 1,
   "id": "26e3018f",
   "metadata": {},
   "outputs": [],
   "source": [
    "# read in ASCII data\n",
    "f = open(\"Model_S_ASCII.rtf\", \"r\")\n",
    "lines = f.readlines()\n",
    "f.close()"
   ]
  },
  {
   "cell_type": "code",
   "execution_count": 8,
   "id": "f23a7a20",
   "metadata": {},
   "outputs": [
    {
     "data": {
      "text/plain": [
       "['{\\\\rtf1\\\\ansi\\\\ansicpg1252\\\\cocoartf2706\\n',\n",
       " '\\\\cocoatextscaling0\\\\cocoaplatform0{\\\\fonttbl\\\\f0\\\\fmodern\\\\fcharset0 Courier;}\\n',\n",
       " '{\\\\colortbl;\\\\red255\\\\green255\\\\blue255;\\\\red0\\\\green0\\\\blue0;}\\n',\n",
       " '{\\\\*\\\\expandedcolortbl;;\\\\cssrgb\\\\c0\\\\c0\\\\c0;}\\n',\n",
       " '\\\\margl1440\\\\margr1440\\\\vieww21920\\\\viewh17760\\\\viewkind0\\n',\n",
       " '\\\\deftab720\\n',\n",
       " '\\\\pard\\\\pardeftab720\\\\partightenfactor0\\n',\n",
       " '\\n',\n",
       " '\\\\f0\\\\fs26 \\\\cf0 \\\\expnd0\\\\expndtw0\\\\kerning0\\n',\n",
       " 'L5BI.D.15C.PRES.960126.AARHUS, {\\\\field{\\\\*\\\\fldinst{HYPERLINK \"https://phys.au.dk/~jcd/solar_models/fgong.l5bi.d.15c\"}}{\\\\fldrslt https://phys.au.dk/~jcd/solar_models/fgong.l5bi.d.15c}}                                            \\\\\\n']"
      ]
     },
     "execution_count": 8,
     "metadata": {},
     "output_type": "execute_result"
    }
   ],
   "source": [
    "lines[:10]"
   ]
  },
  {
   "cell_type": "code",
   "execution_count": null,
   "id": "1f632472",
   "metadata": {},
   "outputs": [],
   "source": []
  }
 ],
 "metadata": {
  "kernelspec": {
   "display_name": "Python 3",
   "language": "python",
   "name": "python3"
  },
  "language_info": {
   "codemirror_mode": {
    "name": "ipython",
    "version": 3
   },
   "file_extension": ".py",
   "mimetype": "text/x-python",
   "name": "python",
   "nbconvert_exporter": "python",
   "pygments_lexer": "ipython3",
   "version": "3.8.5"
  }
 },
 "nbformat": 4,
 "nbformat_minor": 5
}
