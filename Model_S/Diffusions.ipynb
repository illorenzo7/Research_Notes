{
 "cells": [
  {
   "cell_type": "code",
   "execution_count": 1,
   "id": "26e3018f",
   "metadata": {},
   "outputs": [],
   "source": [
    "# read in binary data\n",
    "%matplotlib inline\n",
    "import numpy as np\n",
    "import matplotlib.pyplot as plt\n",
    "import pickle\n",
    "import sys, os\n",
    "sys.path.append(os.environ['raco'])\n",
    "from common import dotdict, g_univ, buff_line\n",
    "from scipy.integrate import simpson\n",
    "f = open(\"Model_S.pkl\", \"rb\")\n",
    "di = dotdict(pickle.load(f))\n",
    "f.close()"
   ]
  },
  {
   "cell_type": "code",
   "execution_count": 2,
   "id": "f23a7a20",
   "metadata": {},
   "outputs": [
    {
     "data": {
      "text/plain": [
       "1.989e+33"
      ]
     },
     "execution_count": 2,
     "metadata": {},
     "output_type": "execute_result"
    }
   ],
   "source": [
    "di.msun"
   ]
  },
  {
   "cell_type": "code",
   "execution_count": 3,
   "id": "5097eff8",
   "metadata": {},
   "outputs": [],
   "source": [
    "# all right let's plot some diffusion coefficients"
   ]
  },
  {
   "cell_type": "code",
   "execution_count": 4,
   "id": "c43ccc47",
   "metadata": {},
   "outputs": [
    {
     "data": {
      "text/plain": [
       "(0.0, 6.0)"
      ]
     },
     "execution_count": 4,
     "metadata": {},
     "output_type": "execute_result"
    }
   ],
   "source": [
    "plt.plot(di.rr, di.nu)\n",
    "plt.ylabel('viscosity')\n",
    "plt.ylim(0,6)"
   ]
  },
  {
   "cell_type": "code",
   "execution_count": 5,
   "id": "8d94521f",
   "metadata": {},
   "outputs": [],
   "source": [
    "plt.plot(di.rr, di.kappa)\n",
    "plt.ylim(1e3, 1e8)\n",
    "plt.ylabel('k_rad')\n",
    "plt.yscale('log')"
   ]
  },
  {
   "cell_type": "code",
   "execution_count": 6,
   "id": "59a70478",
   "metadata": {},
   "outputs": [],
   "source": [
    "plt.plot(di.rr, di.eta)\n",
    "plt.ylabel('eta')\n",
    "plt.yscale('log')"
   ]
  },
  {
   "cell_type": "code",
   "execution_count": 7,
   "id": "161dfe19",
   "metadata": {},
   "outputs": [],
   "source": [
    "# see what they all look like on same scale\n",
    "plt.plot(di.rr, di.nu)\n",
    "plt.plot(di.rr, di.kappa)\n",
    "plt.plot(di.rr, di.eta)\n",
    "plt.ylim(0.1,1e8)\n",
    "plt.yscale('log')"
   ]
  },
  {
   "cell_type": "code",
   "execution_count": 8,
   "id": "58b4378a",
   "metadata": {},
   "outputs": [],
   "source": [
    "# plot Prandtl numbers\n",
    "plt.plot(di.rr, di.pr, label='Pr')\n",
    "plt.plot(di.rr, di.prm, label='Pr_m')\n",
    "plt.plot(di.rr, di.pr/di.prm, label='Pr/Pr_m = eta/kappa')\n",
    "plt.legend()\n",
    "plt.ylim(1e-8, 100)\n",
    "plt.yscale('log')"
   ]
  },
  {
   "cell_type": "code",
   "execution_count": 9,
   "id": "1d28be46",
   "metadata": {},
   "outputs": [
    {
     "data": {
      "text/plain": [
       "(1, 1000000.0)"
      ]
     },
     "execution_count": 9,
     "metadata": {},
     "output_type": "execute_result"
    }
   ],
   "source": [
    "# plot opacity\n",
    "plt.plot(di.rr, di.opa)\n",
    "plt.yscale('log')\n",
    "plt.ylim(1, 1e6)"
   ]
  },
  {
   "cell_type": "code",
   "execution_count": 10,
   "id": "589848e9",
   "metadata": {},
   "outputs": [
    {
     "data": {
      "text/plain": [
       "(200000000.0, 400000000.0)"
      ]
     },
     "execution_count": 10,
     "metadata": {},
     "output_type": "execute_result"
    }
   ],
   "source": [
    "# plot opacity\n",
    "plt.plot(di.rr, di.c_p)\n",
    "plt.ylim(2e8,4e8)"
   ]
  },
  {
   "cell_type": "code",
   "execution_count": null,
   "id": "ef24276f",
   "metadata": {},
   "outputs": [],
   "source": []
  },
  {
   "cell_type": "code",
   "execution_count": 28,
   "id": "02111ef4",
   "metadata": {},
   "outputs": [],
   "source": [
    "# let's make nice plot of diffusions and Prandtl numbers\n",
    "fig, axs = plt.subplots(1, 2, figsize=(8.5, 4.))\n",
    "axs = axs.flatten()\n",
    "ax1, ax2 = axs\n",
    "#ax1, ax2, ax3, ax4 = axs\n",
    "\n",
    "# plot the diffusivities\n",
    "ax1.plot(di.rr, di.nu, label=r'$\\nu\\sim T^{5/2}\\rho^{-1}$')\n",
    "ax1.plot(di.rr, di.kappa, label=r'$\\kappa\\sim T^3\\rho^{-2}c_p^{-1}\\chi^{-1}$')\n",
    "ax1.plot(di.rr, di.eta, label=r'$\\eta\\sim T^{-3/2}$')\n",
    "ax1.legend(loc='lower left')\n",
    "\n",
    "# set y limits and scaling\n",
    "y1, y2 = 1e-4, 1e8\n",
    "ax1.set_ylim(y1, y2)\n",
    "ax1.set_yscale('log')\n",
    "ax1.set_ylabel('diffusivity ' + r'$\\rm{[cm^2\\ s^{-1}]}$')\n",
    "\n",
    "# plot the Prandtl numbers\n",
    "ax2.plot(di.rr, di.pr, label=r'$\\nu/\\kappa\\sim \\rho c_p\\chi T^{-1/2}$')\n",
    "ax2.plot(di.rr, di.prm, label=r'$\\nu/\\eta\\sim T^4\\rho^{-1}$')\n",
    "ax2.plot(di.rr, di.pr/di.prm, label=r'$\\eta/\\kappa\\sim\\rho^2c_p\\chi T^{-9/2}$')\n",
    "ax2.legend(loc='lower left')\n",
    "\n",
    "# set y limits and scaling\n",
    "y1, y2 = 1e-8, 1e1\n",
    "ax2.set_ylim(y1, y2)\n",
    "ax2.set_yscale('log')\n",
    "ax2.set_ylabel('Prandtl numbers')\n",
    "\n",
    "# mark some values for the top row:\n",
    "for ax in [ax1, ax2]:\n",
    "    npoints = 100\n",
    "    y1, y2 = ax.get_ylim()\n",
    "    yvals = np.linspace(y1, y2, npoints)\n",
    "\n",
    "    # plot base of CZ and cut radius\n",
    "    for rval in [di.rbcz, di.rcut]:\n",
    "        ax.plot(rval + np.zeros(npoints), yvals, 'k--')\n",
    "\n",
    "\n",
    "    # shade the non-ideal layer\n",
    "    ax.fill_between(di.rr[:di.ircut], di.rr[:di.ircut]*0 + y1, di.rr[:di.ircut]*0 + y2, fc=\"k\", alpha=0.2)\n",
    "\n",
    "    # shade the tachocline\n",
    "    ax.fill_between(di.rr[di.irtach2:di.irtach1], di.rr[di.irtach2:di.irtach1]*0 + y1,\\\n",
    "                     di.rr[di.irtach2:di.irtach1]*0 + y2, fc=\"k\", alpha=0.2)\n",
    "\n",
    "    # set x limits\n",
    "    ax.set_xlim(0, di.rsun)\n",
    "\n",
    "    # set x label \n",
    "    ax.set_xlabel('r [cm]')\n",
    "\n",
    "for ax in axs:\n",
    "    plt.sca(ax)\n",
    "    plt.minorticks_on()\n",
    "    plt.tick_params(top=True, right=True, direction='in', which='both')\n",
    "    plt.ticklabel_format(useMathText=True, axis='x', scilimits=(0,0)    )\n",
    "\n",
    "plt.tight_layout()\n",
    "\n",
    "plt.savefig('plots/Model_S_diffusions.png', dpi=300)"
   ]
  },
  {
   "cell_type": "code",
   "execution_count": 12,
   "id": "2fd2762c",
   "metadata": {},
   "outputs": [
    {
     "name": "stdout",
     "output_type": "stream",
     "text": [
      "nu tach = 2.740e+01\n",
      "kappa tach = 1.416e+07\n",
      "eta tach = 3.939e+02\n",
      "delta nu tach = 0.105\n",
      "delta kappa tach = 0.089\n",
      "delta eta tach = 0.302\n"
     ]
    }
   ],
   "source": [
    "print(\"nu tach = %1.3e\" %di.nu[di.irtach])\n",
    "print(\"kappa tach = %1.3e\" %di.kappa[di.irtach])\n",
    "print(\"eta tach = %1.3e\" %di.eta[di.irtach])\n",
    "\n",
    "print(\"delta nu tach = %.3f\" %np.abs((di.nu[di.irtach1] - di.nu[di.irtach2])/di.nu[di.irtach]))\n",
    "print(\"delta kappa tach = %.3f\" %np.abs((di.kappa[di.irtach1] - di.kappa[di.irtach2])/di.kappa[di.irtach]))\n",
    "print(\"delta eta tach = %.3f\" %np.abs((di.eta[di.irtach1] - di.eta[di.irtach2])/di.eta[di.irtach]))"
   ]
  },
  {
   "cell_type": "code",
   "execution_count": 13,
   "id": "ddd8fbc7",
   "metadata": {},
   "outputs": [
    {
     "name": "stdout",
     "output_type": "stream",
     "text": [
      "nu/kappa tach = 1.935e-06\n",
      "nu/eta tach = 6.955e-02\n",
      "eta/kappa tach = 2.782e-05\n"
     ]
    }
   ],
   "source": [
    "# cool...things don't really vary across tachocline\n",
    "print (\"nu/kappa tach = %1.3e\" %di.pr[di.irtach])\n",
    "print (\"nu/eta tach = %1.3e\" %di.prm[di.irtach])\n",
    "print (\"eta/kappa tach = %1.3e\" %(di.pr/di.prm)[di.irtach])"
   ]
  },
  {
   "cell_type": "code",
   "execution_count": 14,
   "id": "15b50618",
   "metadata": {},
   "outputs": [
    {
     "data": {
      "text/plain": [
       "<matplotlib.legend.Legend at 0x7f8d33431780>"
      ]
     },
     "execution_count": 14,
     "metadata": {},
     "output_type": "execute_result"
    }
   ],
   "source": [
    "# curious: look at arguments to various \"skin approximations\" vs. fanciness\n",
    "arg1 = (di.rbcz - di.reta)/np.sqrt(di.etaconst)\n",
    "arg2 = (di.rbcz - di.rrrz)/np.sqrt(di.eta[di.irbcz:])\n",
    "arg3 = (di.rbcz - di.rrrz)/np.sqrt(di.etaconst)\n",
    "plt.figure()\n",
    "plt.plot(di.rrrz, arg1, label=\"r_eta\")\n",
    "plt.plot(di.rrrz, arg2, label=\"varying eta(r)\")\n",
    "plt.plot(di.rrrz, arg3, label=\"eta_const, regular r\")\n",
    "plt.legend()"
   ]
  },
  {
   "cell_type": "code",
   "execution_count": 15,
   "id": "25fa18e2",
   "metadata": {},
   "outputs": [
    {
     "name": "stdout",
     "output_type": "stream",
     "text": [
      "eta_const: 66.46942480163796\n",
      "r_etaconst/rbcz 0.41098522563775813\n",
      "==============================================\n",
      "nu_const: 10.045066439516416\n",
      "r_nuconst/rbcz 0.523452038588161\n",
      "==============================================\n",
      "es_const: 1.6177907320298581e-21\n",
      "r_esconst/rbcz 0.37245465003141753\n",
      "==============================================\n",
      "t_ES const = 1.187e+56 yr\n"
     ]
    }
   ],
   "source": [
    "# Okay, I'm convinced it makes a difference. \n",
    "\n",
    "# should probably compute similar length-scales (and constant values)\n",
    "# for viscous spread and radiative spread\n",
    "nurz = di.nu[di.irbcz:]\n",
    "kapparz = di.kappa[di.irbcz:]\n",
    "etarz = di.eta[di.irbcz:]\n",
    "nsqrz = np.abs(di.nsq[di.irbcz:]) # dunno why some vals are negative; resvisit later\n",
    "omegarz = 2.7e-6\n",
    "\n",
    "# compute r nu\n",
    "integrand = 1./np.sqrt(nurz)\n",
    "di.rnu = np.zeros(di.nrrz)\n",
    "for ir in range(di.nrrz):\n",
    "    di.rnu[ir] = -simpson(integrand[ir:], x=di.rrrz[ir:])\n",
    "di.nuconst = (di.rbcz/di.rnu[0])**2\n",
    "di.rnu *= di.rbcz/di.rnu[0] # normalize by top value (full integral)\n",
    "di.irnuconst =  np.argmin(np.abs(nurz - di.nuconst))\n",
    "di.rnuconst = di.rrrz[di.irnuconst]\n",
    "di.irnuconst += di.irbcz\n",
    "\n",
    "# compute r ES\n",
    "di.es = nsqrz/(2*omegarz)**2/di.rrrz**2/kapparz # eddington-Sweet (rad. spread) coefficient\n",
    "integrand = di.es**0.25 # needs to be to the (1/4) now\n",
    "di.res = np.zeros(di.nrrz)\n",
    "for ir in range(di.nrrz):\n",
    "    di.res[ir] = -simpson(integrand[ir:], x=di.rrrz[ir:])\n",
    "di.esconst = (di.res[0]/di.rbcz)**4\n",
    "di.res *= di.rbcz/di.res[0] # normalize by top value (full integral)\n",
    "di.iresconst =  np.argmin(np.abs(di.es - di.esconst))\n",
    "di.resconst = di.rrrz[di.iresconst]\n",
    "di.iresconst += di.irbcz\n",
    "\n",
    "# compute const eddington sweet time\n",
    "di.tesconst = di.rbcz**4/di.esconst\n",
    "\n",
    "#plt.figure()\n",
    "#plt.plot(di.rrrz, di.reta)\n",
    "\n",
    "print(\"eta_const:\", di.etaconst)\n",
    "print(\"r_etaconst/rbcz\", di.retaconst/di.rbcz)\n",
    "\n",
    "print(buff_line)\n",
    "\n",
    "print(\"nu_const:\", di.nuconst)\n",
    "print(\"r_nuconst/rbcz\", di.rnuconst/di.rbcz)\n",
    "\n",
    "print(buff_line)\n",
    "\n",
    "print(\"es_const:\", di.esconst)\n",
    "print(\"r_esconst/rbcz\", di.resconst/di.rbcz)\n",
    "\n",
    "print(buff_line)\n",
    "yr = 365*86400\n",
    "print(\"t_ES const = %1.3e yr\" %(di.tesconst/yr) )"
   ]
  },
  {
   "cell_type": "code",
   "execution_count": 16,
   "id": "af0618c4",
   "metadata": {},
   "outputs": [
    {
     "data": {
      "text/plain": [
       "[<matplotlib.lines.Line2D at 0x7f8d1037d8a0>]"
      ]
     },
     "execution_count": 16,
     "metadata": {},
     "output_type": "execute_result"
    }
   ],
   "source": [
    "# this is a much bigger Eddington-Sweet time...huh. Plot time to spread though\n",
    "# look at res now\n",
    "plt.close()\n",
    "plt.figure()\n",
    "plt.plot(di.rrrz, di.res)"
   ]
  },
  {
   "cell_type": "code",
   "execution_count": 17,
   "id": "effaaab6",
   "metadata": {},
   "outputs": [
    {
     "name": "stderr",
     "output_type": "stream",
     "text": [
      "/var/folders/ss/ddlz1pd53ls6zf26gks96rgc0000gp/T/ipykernel_32072/427923866.py:1: RuntimeWarning: divide by zero encountered in divide\n",
      "  tes_vsr = (di.rbcz - di.res)**4 / di.es\n"
     ]
    },
    {
     "data": {
      "text/plain": [
       "(0.0, 20000000000.0)"
      ]
     },
     "execution_count": 17,
     "metadata": {},
     "output_type": "execute_result"
    }
   ],
   "source": [
    "tes_vsr = (di.rbcz - di.res)**4 / di.es\n",
    "tnu_vsr = (di.rbcz - di.rnu)**2 / nurz\n",
    "teta_vsr = (di.rbcz - di.reta)**2 / etarz\n",
    "\n",
    "plt.figure()\n",
    "plt.plot(tes_vsr/yr, di.rbcz-di.rrrz, label=\"rad. spread\")\n",
    "plt.plot(tnu_vsr/yr, di.rbcz-di.rrrz, label=\"visc. spread\")\n",
    "plt.plot(teta_vsr/yr, di.rbcz-di.rrrz, label=\"mag. spread\")\n",
    "plt.legend()\n",
    "plt.xlim(0,4.6e9)\n",
    "plt.ylim(0,2e10)\n",
    "#plt.yscale('log')"
   ]
  },
  {
   "cell_type": "code",
   "execution_count": 18,
   "id": "add72ecf",
   "metadata": {},
   "outputs": [
    {
     "name": "stderr",
     "output_type": "stream",
     "text": [
      "/var/folders/ss/ddlz1pd53ls6zf26gks96rgc0000gp/T/ipykernel_32072/3934090357.py:1: RuntimeWarning: divide by zero encountered in divide\n",
      "  tes_vsr = (di.rbcz - di.res)**4 / di.es\n"
     ]
    },
    {
     "data": {
      "text/plain": [
       "(0.0, 20000000000.0)"
      ]
     },
     "execution_count": 18,
     "metadata": {},
     "output_type": "execute_result"
    }
   ],
   "source": [
    "tes_vsr = (di.rbcz - di.res)**4 / di.es\n",
    "tnu_vsr = (di.rbcz - di.rnu)**2 / nurz\n",
    "teta_vsr = (di.rbcz - di.reta)**2 / etarz\n",
    "\n",
    "plt.figure()\n",
    "plt.plot(tes_vsr/yr, di.rbcz-di.rrrz, label=\"rad. spread\")\n",
    "plt.plot(tnu_vsr/yr, di.rbcz-di.rrrz, label=\"visc. spread\")\n",
    "plt.plot(teta_vsr/yr, di.rbcz-di.rrrz, label=\"mag. spread\")\n",
    "plt.legend()\n",
    "plt.xlim(0,0.5e7)\n",
    "plt.ylim(0,2e10)\n",
    "#plt.yscale('log')"
   ]
  },
  {
   "cell_type": "code",
   "execution_count": 19,
   "id": "510eb5cd",
   "metadata": {},
   "outputs": [],
   "source": [
    "# estimate tachocline torque from rad spread\n",
    "rsun = 6.96e10\n",
    "gamma = 0.05*rsun\n",
    "domdt_rad = di.es[2]*omegarz/gamma**4\n",
    "vtheta = 1000. # 10 m/s\n",
    "domdt_mc = 0.3*omegarz*vtheta/(np.pi/2*rsun)"
   ]
  },
  {
   "cell_type": "code",
   "execution_count": 20,
   "id": "b6ed4a3f",
   "metadata": {},
   "outputs": [
    {
     "data": {
      "text/plain": [
       "5.38615967144342e-69"
      ]
     },
     "execution_count": 20,
     "metadata": {},
     "output_type": "execute_result"
    }
   ],
   "source": [
    "domdt_rad"
   ]
  },
  {
   "cell_type": "code",
   "execution_count": 21,
   "id": "0f7f0e35",
   "metadata": {},
   "outputs": [
    {
     "data": {
      "text/plain": [
       "7.408937006002024e-15"
      ]
     },
     "execution_count": 21,
     "metadata": {},
     "output_type": "execute_result"
    }
   ],
   "source": [
    "domdt_mc"
   ]
  },
  {
   "cell_type": "code",
   "execution_count": 22,
   "id": "cadcbb68",
   "metadata": {},
   "outputs": [
    {
     "data": {
      "text/plain": [
       "1043"
      ]
     },
     "execution_count": 22,
     "metadata": {},
     "output_type": "execute_result"
    }
   ],
   "source": [
    "di.nrrz"
   ]
  },
  {
   "cell_type": "code",
   "execution_count": 23,
   "id": "b2e28d24",
   "metadata": {},
   "outputs": [
    {
     "data": {
      "text/plain": [
       "2.5433019020238673e+49"
      ]
     },
     "execution_count": 23,
     "metadata": {},
     "output_type": "execute_result"
    }
   ],
   "source": [
    "rsun**4/di.es[2]/yr/1e11"
   ]
  },
  {
   "cell_type": "code",
   "execution_count": 24,
   "id": "b7d98aee",
   "metadata": {},
   "outputs": [
    {
     "data": {
      "text/plain": [
       "[<matplotlib.lines.Line2D at 0x7f8d33897610>]"
      ]
     },
     "execution_count": 24,
     "metadata": {},
     "output_type": "execute_result"
    }
   ],
   "source": [
    "plt.figure()\n",
    "plt.plot(di.rrrz, di.es)"
   ]
  },
  {
   "cell_type": "code",
   "execution_count": 25,
   "id": "5b45059f",
   "metadata": {},
   "outputs": [
    {
     "data": {
      "text/plain": [
       "[<matplotlib.lines.Line2D at 0x7f8d33920dc0>]"
      ]
     },
     "execution_count": 25,
     "metadata": {},
     "output_type": "execute_result"
    }
   ],
   "source": [
    "# no idea what's going on: plot\n",
    "\n",
    "plt.figure()\n",
    "plt.xlim(2e10, 5e10)\n",
    "plt.ylim(0, 1e-21)\n",
    "plt.plot(di.rrrz, nsqrz/(2*omegarz)**2/di.rrrz**2/kapparz)"
   ]
  },
  {
   "cell_type": "code",
   "execution_count": 26,
   "id": "0511abfc",
   "metadata": {},
   "outputs": [
    {
     "data": {
      "text/plain": [
       "[<matplotlib.lines.Line2D at 0x7f8d3396ff40>]"
      ]
     },
     "execution_count": 26,
     "metadata": {},
     "output_type": "execute_result"
    }
   ],
   "source": [
    "plt.figure()\n",
    "plt.plot(di.rrrz, nsqrz)"
   ]
  },
  {
   "cell_type": "code",
   "execution_count": 27,
   "id": "0c7fd341",
   "metadata": {},
   "outputs": [
    {
     "data": {
      "text/plain": [
       "[<matplotlib.lines.Line2D at 0x7f8d20b6c730>]"
      ]
     },
     "execution_count": 27,
     "metadata": {},
     "output_type": "execute_result"
    }
   ],
   "source": [
    "plt.figure()\n",
    "plt.plot(di.rrrz, kapparz)"
   ]
  },
  {
   "cell_type": "code",
   "execution_count": null,
   "id": "9415448e",
   "metadata": {},
   "outputs": [],
   "source": []
  }
 ],
 "metadata": {
  "kernelspec": {
   "display_name": "Python 3 (ipykernel)",
   "language": "python",
   "name": "python3"
  },
  "language_info": {
   "codemirror_mode": {
    "name": "ipython",
    "version": 3
   },
   "file_extension": ".py",
   "mimetype": "text/x-python",
   "name": "python",
   "nbconvert_exporter": "python",
   "pygments_lexer": "ipython3",
   "version": "3.10.14"
  }
 },
 "nbformat": 4,
 "nbformat_minor": 5
}
