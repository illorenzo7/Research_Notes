{
 "cells": [
  {
   "cell_type": "code",
   "execution_count": 50,
   "id": "26e3018f",
   "metadata": {},
   "outputs": [],
   "source": [
    "# Author: Loren Matilsky\n",
    "# Created: 12/02/2022\n",
    "# Updated: 11/22/2024, following Gough (2007)\n",
    "# See more info about Model S on Jorgen's personal webpage:\n",
    "# https://phys.au.dk/~jcd/solar_models\n",
    "# Also see the .pdf for description of data\n",
    "# Modify this file as needed to read in more variables\n",
    "\n",
    "# read in ASCII data\n",
    "import numpy as np\n",
    "import matplotlib.pyplot as plt\n",
    "import sys, os\n",
    "import pickle\n",
    "sys.path.append(os.environ['raco'])\n",
    "from common import dotdict, g_univ, sun\n",
    "from scipy.integrate import simpson\n",
    "#from scipy.integrate import simps\n",
    "f = open(\"Model_S.txt\", \"r\")\n",
    "lines = f.readlines()\n",
    "f.close()"
   ]
  },
  {
   "cell_type": "code",
   "execution_count": 51,
   "id": "f23a7a20",
   "metadata": {},
   "outputs": [
    {
     "data": {
      "text/plain": [
       "['L5BI.D.15.PRES.950912.AARHUS\\n',\n",
       " 'Level 5 physics, present Sun. (OPAL, LivermoreEOS ). He, Z diffusion.\\n',\n",
       " 'Model S (Christensen-Dalsgaard et al. 1996)\\n',\n",
       " 'https://phys.au.dk/~jcd/solar_models/\\n',\n",
       " '\\n',\n",
       " '      2482        15        25       210\\n',\n",
       " ' 1.989000000E+33 6.959906258E+10 3.845999350E+33 1.962800000E-02 7.090812183E-01\\n',\n",
       " ' 1.990493515E+00 2.249999861E+00 6.172840271E-03 1.000000000E+00 1.000000000E+00\\n',\n",
       " '-1.370674456E+02-1.662854139E+02 4.600000017E+09 5.777503437E+03 6.672320000E-08\\n',\n",
       " ' 6.964865599E+10 8.394798002E-11 4.348192658E+03 9.455873862E+02 3.292484968E-09\\n']"
      ]
     },
     "execution_count": 51,
     "metadata": {},
     "output_type": "execute_result"
    }
   ],
   "source": [
    "# determine where data starts\n",
    "lines[:10]"
   ]
  },
  {
   "cell_type": "code",
   "execution_count": 52,
   "id": "1f632472",
   "metadata": {},
   "outputs": [
    {
     "data": {
      "text/plain": [
       "[' 1.989000000E+33 6.959906258E+10 3.845999350E+33 1.962800000E-02 7.090812183E-01\\n',\n",
       " ' 1.990493515E+00 2.249999861E+00 6.172840271E-03 1.000000000E+00 1.000000000E+00\\n',\n",
       " '-1.370674456E+02-1.662854139E+02 4.600000017E+09 5.777503437E+03 6.672320000E-08\\n',\n",
       " ' 6.964865599E+10 8.394798002E-11 4.348192658E+03 9.455873862E+02 3.292484968E-09\\n']"
      ]
     },
     "execution_count": 52,
     "metadata": {},
     "output_type": "execute_result"
    }
   ],
   "source": [
    "lines[6:10]"
   ]
  },
  {
   "cell_type": "code",
   "execution_count": 53,
   "id": "a8fe0417",
   "metadata": {},
   "outputs": [
    {
     "data": {
      "text/plain": [
       "['1.989000000E+33',\n",
       " '6.959906258E+10',\n",
       " '3.845999350E+33',\n",
       " '1.962800000E-02',\n",
       " '7.090812183E-01']"
      ]
     },
     "execution_count": 53,
     "metadata": {},
     "output_type": "execute_result"
    }
   ],
   "source": [
    "lines[6].split()"
   ]
  },
  {
   "cell_type": "code",
   "execution_count": 54,
   "id": "0cef6ae7",
   "metadata": {},
   "outputs": [
    {
     "data": {
      "text/plain": [
       "62065.0"
      ]
     },
     "execution_count": 54,
     "metadata": {},
     "output_type": "execute_result"
    }
   ],
   "source": [
    "# actually doesn't work because the negative values \"touch\" values to their left\n",
    "# maybe just split things up by each number (has character width 16)\n",
    "st = ''\n",
    "for line in lines[6:]: \n",
    "    st += line.replace('\\n', '')\n",
    "len(st)/16"
   ]
  },
  {
   "cell_type": "code",
   "execution_count": 6,
   "id": "38534ba4",
   "metadata": {},
   "outputs": [
    {
     "name": "stdout",
     "output_type": "stream",
     "text": [
      "62065\n"
     ]
    }
   ],
   "source": [
    "ndata = 62065\n",
    "data = []\n",
    "for i in range(ndata):\n",
    "    data.append(float(st[16*i:16*(i+1)]))\n",
    "data = np.array(data)\n",
    "print(len(data))"
   ]
  },
  {
   "cell_type": "code",
   "execution_count": 7,
   "id": "e3888187",
   "metadata": {},
   "outputs": [
    {
     "name": "stdout",
     "output_type": "stream",
     "text": [
      "[' 1.989000000E+33 6.959906258E+10 3.845999350E+33 1.962800000E-02 7.090812183E-01\\n', ' 1.990493515E+00 2.249999861E+00 6.172840271E-03 1.000000000E+00 1.000000000E+00\\n']\n",
      "[1.98900000e+33 6.95990626e+10 3.84599935e+33 1.96280000e-02\n",
      " 7.09081218e-01 1.99049352e+00 2.24999986e+00 6.17284027e-03\n",
      " 1.00000000e+00 1.00000000e+00]\n"
     ]
    }
   ],
   "source": [
    "# compare first and last data vals\n",
    "print (lines[6:8])\n",
    "print (data[:10])"
   ]
  },
  {
   "cell_type": "code",
   "execution_count": 8,
   "id": "61c57585",
   "metadata": {},
   "outputs": [
    {
     "name": "stdout",
     "output_type": "stream",
     "text": [
      "['-2.754367381E-18 2.028474614E-02 6.959906258E+10-1.390014546E-01 0.000000000E+00\\n', ' 7.484873918E-06 0.000000000E+00 0.000000000E+00 5.132910511E-03 9.159690889E-03']\n",
      "[-2.75436738e-18  2.02847461e-02  6.95990626e+10 -1.39001455e-01\n",
      "  0.00000000e+00  7.48487392e-06  0.00000000e+00  0.00000000e+00\n",
      "  5.13291051e-03  9.15969089e-03]\n"
     ]
    }
   ],
   "source": [
    "print (lines[-2:])\n",
    "print (data[-10:])"
   ]
  },
  {
   "cell_type": "code",
   "execution_count": 9,
   "id": "26960183",
   "metadata": {},
   "outputs": [],
   "source": [
    "# all looks good!"
   ]
  },
  {
   "cell_type": "code",
   "execution_count": 10,
   "id": "e71828e5",
   "metadata": {},
   "outputs": [
    {
     "data": {
      "text/plain": [
       "206.83333333333334"
      ]
     },
     "execution_count": 10,
     "metadata": {},
     "output_type": "execute_result"
    }
   ],
   "source": [
    "# separate into global variables\n",
    "glob = data[:15]\n",
    "profs = data[15:]\n",
    "len(profs)/300"
   ]
  },
  {
   "cell_type": "code",
   "execution_count": 11,
   "id": "54c5b74e",
   "metadata": {},
   "outputs": [
    {
     "data": {
      "text/plain": [
       "25.0"
      ]
     },
     "execution_count": 11,
     "metadata": {},
     "output_type": "execute_result"
    }
   ],
   "source": [
    "len(profs)/2482"
   ]
  },
  {
   "cell_type": "code",
   "execution_count": 12,
   "id": "17bc551f",
   "metadata": {},
   "outputs": [
    {
     "data": {
      "text/plain": [
       "array([6.96486560e+10, 6.96481085e+10, 6.96475567e+10, ...,\n",
       "       5.81765728e+08, 5.77113851e+08, 1.00000000e-49])"
      ]
     },
     "execution_count": 12,
     "metadata": {},
     "output_type": "execute_result"
    }
   ],
   "source": [
    "nr = 2482\n",
    "nq = 25\n",
    "profs[::nq]"
   ]
  },
  {
   "cell_type": "code",
   "execution_count": 13,
   "id": "d17707bc",
   "metadata": {},
   "outputs": [
    {
     "data": {
      "text/plain": [
       "array([[ 6.96486560e+10,  6.96481085e+10,  6.96475567e+10, ...,\n",
       "         5.81765728e+08,  5.77113851e+08,  1.00000000e-49],\n",
       "       [ 8.39479800e-11,  8.38913253e-11,  8.38311537e-11, ...,\n",
       "        -9.66079749e+00, -9.68482704e+00, -1.38155106e+02],\n",
       "       [ 4.34819266e+03,  4.34848841e+03,  4.34881643e+03, ...,\n",
       "         1.56435238e+07,  1.56439097e+07,  1.56678808e+07],\n",
       "       ...,\n",
       "       [ 0.00000000e+00,  0.00000000e+00,  0.00000000e+00, ...,\n",
       "         0.00000000e+00,  0.00000000e+00,  0.00000000e+00],\n",
       "       [ 4.58774841e-03,  4.58774841e-03,  4.58774841e-03, ...,\n",
       "         5.11364248e-03,  5.11394851e-03,  5.13291051e-03],\n",
       "       [ 9.78239892e-03,  9.78239892e-03,  9.78239892e-03, ...,\n",
       "         9.18169968e-03,  9.18135012e-03,  9.15969089e-03]])"
      ]
     },
     "execution_count": 13,
     "metadata": {},
     "output_type": "execute_result"
    }
   ],
   "source": [
    "profs2 = np.zeros((nq, nr))\n",
    "for iq in range(nq):\n",
    "    profs2[iq, :] = profs[iq::nq]\n",
    "profs2"
   ]
  },
  {
   "cell_type": "code",
   "execution_count": 14,
   "id": "5282c570",
   "metadata": {},
   "outputs": [],
   "source": [
    "# now lets package the output as a dictionary\n",
    "di = dotdict()\n",
    "di.msun = glob[0] # mass of sun\n",
    "di.rsun = glob[1] # radius of sun\n",
    "di.lsun = glob[2] # luminosity of sun\n",
    "di.zsun = glob[3] # metallicity of sun (heavy element abundance Z)\n",
    "di.x0sun = glob[4] # initial hydrogen abundance X_0\n",
    "di.alphasun = glob[5]  # mixing-length parameter: alpha = ell / H_prs\n",
    "di.agesun = glob[12] # age of sun"
   ]
  },
  {
   "cell_type": "code",
   "execution_count": 15,
   "id": "f89ae69b",
   "metadata": {},
   "outputs": [
    {
     "data": {
      "text/plain": [
       "{'msun': 1.989e+33,\n",
       " 'rsun': 69599062580.0,\n",
       " 'lsun': 3.84599935e+33,\n",
       " 'zsun': 0.019628,\n",
       " 'x0sun': 0.7090812183,\n",
       " 'alphasun': 1.990493515,\n",
       " 'agesun': 4600000017.0}"
      ]
     },
     "execution_count": 15,
     "metadata": {},
     "output_type": "execute_result"
    }
   ],
   "source": [
    "di"
   ]
  },
  {
   "cell_type": "code",
   "execution_count": 16,
   "id": "5337cebc",
   "metadata": {},
   "outputs": [],
   "source": [
    "# pretty good..."
   ]
  },
  {
   "cell_type": "code",
   "execution_count": 17,
   "id": "60566315",
   "metadata": {},
   "outputs": [],
   "source": [
    "di.rr = profs2[0]\n",
    "di.lnq = profs2[1]"
   ]
  },
  {
   "cell_type": "code",
   "execution_count": 18,
   "id": "b3c44381",
   "metadata": {},
   "outputs": [
    {
     "data": {
      "text/plain": [
       "(0.0, 300000.0)"
      ]
     },
     "execution_count": 18,
     "metadata": {},
     "output_type": "execute_result"
    },
    {
     "data": {
      "image/png": "[encoded data removed]",
      "text/plain": [
       "<Figure size 640x480 with 1 Axes>"
      ]
     },
     "metadata": {},
     "output_type": "display_data"
    }
   ],
   "source": [
    "# sense check I understand what's happening\n",
    "di.grav = g_univ*np.exp(di.lnq)*di.msun/di.rr**2\n",
    "plt.plot(di.rr, di.grav)\n",
    "plt.ylim(0,3e5)"
   ]
  },
  {
   "cell_type": "code",
   "execution_count": 19,
   "id": "1eb4dcaf",
   "metadata": {},
   "outputs": [],
   "source": [
    "# okay looks fine (except at r=0)"
   ]
  },
  {
   "cell_type": "code",
   "execution_count": 20,
   "id": "7223d760",
   "metadata": {},
   "outputs": [],
   "source": [
    "di.tmp = profs2[2]\n",
    "di.prs = profs2[3]\n",
    "di.rho = profs2[4]\n",
    "di.xfrac = profs2[5] # hydrogen per mass\n",
    "di.lum = profs2[6] # L(r)\n",
    "di.opa = profs2[7] # opacity(r)\n",
    "di.eps = profs2[8] # nuclear generation rate (r)\n",
    "di.gamma = profs2[9] # first adiabatic exponent (dlnp/dlnrho)_ad\n",
    "di.gamma_ad = profs2[10] # adiabatic gradient: (dlnT/dlnp)_ad\n",
    "di.delta = profs2[11] # coeff. vol. expansion: -(dlnrho/dlnT)_p\n",
    "di.c_p = profs2[12] # pressure specific heat\n",
    "di.mue = 1./profs2[13] # mean mol. weight of electrons\n",
    "amu = 1.66054e-24\n",
    "di.Ne = 1/(amu*di.mue) # no. electrons per unit mass\n",
    "di.ne = di.Ne*di.rho # n_e: no. electrons per cm^3\n",
    "di.dsdr = di.c_p/di.rr*profs2[14] # profs2[14] = 1 / gam1 * dlnP/dlnr - dlnrho/dlnr\n",
    "            # = (dlnrho/dlnr)_ad - dlnrho/dlnr\n",
    "di.nsq = di.dsdr*di.grav/di.c_p\n",
    "di.zfrac = profs[16]"
   ]
  },
  {
   "cell_type": "code",
   "execution_count": 21,
   "id": "46032dba",
   "metadata": {},
   "outputs": [
    {
     "data": {
      "text/plain": [
       "(1e+22, 1e+26)"
      ]
     },
     "execution_count": 21,
     "metadata": {},
     "output_type": "execute_result"
    },
    {
     "data": {
      "image/png": "[encoded data removed]",
      "text/plain": [
       "<Figure size 640x480 with 1 Axes>"
      ]
     },
     "metadata": {},
     "output_type": "display_data"
    }
   ],
   "source": [
    "# plot electron density---for Coulomb logarithm\n",
    "plt.figure()\n",
    "plt.plot(di.rr, di.ne)\n",
    "plt.yscale('log')\n",
    "plt.ylim(1e22, 1e26)"
   ]
  },
  {
   "cell_type": "code",
   "execution_count": 22,
   "id": "af5da1d5",
   "metadata": {},
   "outputs": [
    {
     "data": {
      "text/plain": [
       "[<matplotlib.lines.Line2D at 0x7fc350288ac0>]"
      ]
     },
     "execution_count": 22,
     "metadata": {},
     "output_type": "execute_result"
    },
    {
     "data": {
      "image/png": "[encoded data removed]",
      "text/plain": [
       "<Figure size 640x480 with 1 Axes>"
      ]
     },
     "metadata": {},
     "output_type": "display_data"
    }
   ],
   "source": [
    "# plot temperature--for Coulomb logarithm\n",
    "plt.figure()\n",
    "plt.plot(di.rr, di.tmp)\n",
    "#plt.yscale('log')\n",
    "#plt.ylim(1e6,2e7)"
   ]
  },
  {
   "cell_type": "code",
   "execution_count": null,
   "id": "ffe6e357",
   "metadata": {},
   "outputs": [],
   "source": []
  },
  {
   "cell_type": "code",
   "execution_count": 23,
   "id": "355019f5",
   "metadata": {},
   "outputs": [],
   "source": [
    "# compute derivatives of thermal variables numerically\n",
    "di.drhodr = np.gradient(di.rho, di.rr)\n",
    "di.dtmpdr = np.gradient(di.tmp, di.rr)\n",
    "di.dprsdr = np.gradient(di.prs, di.rr)\n",
    "\n",
    "di.dlnrho = di.drhodr/di.rho\n",
    "di.dlntmp = di.dtmpdr/di.tmp\n",
    "di.dlnprs = di.dprsdr/di.prs"
   ]
  },
  {
   "cell_type": "code",
   "execution_count": 24,
   "id": "a75fe7da",
   "metadata": {},
   "outputs": [
    {
     "name": "stdout",
     "output_type": "stream",
     "text": [
      "err hydro balance = 0.0004223962900281747\n"
     ]
    },
    {
     "data": {
      "image/png": "[encoded data removed]",
      "text/plain": [
       "<Figure size 640x480 with 1 Axes>"
      ]
     },
     "metadata": {},
     "output_type": "display_data"
    }
   ],
   "source": [
    "# test hydrostatic balance\n",
    "plt.plot(di.rr, di.rho*di.grav, 'k', label='rho*g')\n",
    "plt.plot(di.rr, -di.dprsdr, 'r--', label='-dP/dr')\n",
    "plt.yscale('log')\n",
    "plt.ylim(1e-5,1e10)\n",
    "err = (di.rho*di.grav+di.dprsdr)/di.dprsdr\n",
    "print (\"err hydro balance =\", np.mean(np.abs(err[:-1])))"
   ]
  },
  {
   "cell_type": "code",
   "execution_count": 25,
   "id": "ce1e3ce0",
   "metadata": {},
   "outputs": [
    {
     "name": "stdout",
     "output_type": "stream",
     "text": [
      "err ideal gas = 0.024694927601119934\n",
      "r < rcut = 6.611e+10 cm\n",
      "err at rcut = 0.104\n"
     ]
    },
    {
     "data": {
      "image/png": "[encoded data removed]",
      "text/plain": [
       "<Figure size 640x480 with 1 Axes>"
      ]
     },
     "metadata": {},
     "output_type": "display_data"
    }
   ],
   "source": [
    "# test ideal gas\n",
    "di.gas_constant = (di.gamma - 1.)*di.c_p/di.gamma\n",
    "\n",
    "# test hydrostatic balance\n",
    "plt.plot(di.rr, di.rho*di.gas_constant*di.tmp, 'k', label='rho*R*T')\n",
    "plt.plot(di.rr, di.prs, 'r--', label='P')\n",
    "plt.yscale('log')\n",
    "#plt.ylim(1e-5,1e10)\n",
    "err = (di.rho*di.gas_constant*di.tmp - di.prs)/di.prs\n",
    "icut = 1000\n",
    "print (\"err ideal gas =\", np.mean(np.abs(err[icut:])))\n",
    "print (\"r < rcut = %1.3e cm\" %di.rr[icut])\n",
    "print (\"err at rcut = %.3f\" %err[icut])"
   ]
  },
  {
   "cell_type": "code",
   "execution_count": 26,
   "id": "6311a059",
   "metadata": {},
   "outputs": [
    {
     "data": {
      "text/plain": [
       "[<matplotlib.lines.Line2D at 0x7fc358b6f370>]"
      ]
     },
     "execution_count": 26,
     "metadata": {},
     "output_type": "execute_result"
    },
    {
     "data": {
      "image/png": "[encoded data removed]",
      "text/plain": [
       "<Figure size 640x480 with 1 Axes>"
      ]
     },
     "metadata": {},
     "output_type": "display_data"
    }
   ],
   "source": [
    "plt.plot(di.rr)"
   ]
  },
  {
   "cell_type": "code",
   "execution_count": 27,
   "id": "7c2b8527",
   "metadata": {},
   "outputs": [
    {
     "data": {
      "text/plain": [
       "Text(0.5, 0, 'r')"
      ]
     },
     "execution_count": 27,
     "metadata": {},
     "output_type": "execute_result"
    },
    {
     "data": {
      "image/png": "[encoded data removed]",
      "text/plain": [
       "<Figure size 640x480 with 1 Axes>"
      ]
     },
     "metadata": {},
     "output_type": "display_data"
    }
   ],
   "source": [
    "plt.plot(di.rr,err)\n",
    "plt.yscale('log')\n",
    "plt.ylim(1e-4,10)\n",
    "plt.ylabel('err in ideal gas law')\n",
    "plt.xlabel('r')"
   ]
  },
  {
   "cell_type": "code",
   "execution_count": 28,
   "id": "2f782d57",
   "metadata": {},
   "outputs": [
    {
     "data": {
      "text/plain": [
       "[<matplotlib.lines.Line2D at 0x7fc3909f8640>]"
      ]
     },
     "execution_count": 28,
     "metadata": {},
     "output_type": "execute_result"
    },
    {
     "data": {
      "image/png": "[encoded data removed]",
      "text/plain": [
       "<Figure size 640x480 with 1 Axes>"
      ]
     },
     "metadata": {},
     "output_type": "display_data"
    }
   ],
   "source": [
    "# figure out where ideal gas law is wrong by ~10%\n",
    "err_ideal = np.abs((di.prs - di.rho*di.gas_constant*di.tmp)/di.prs)\n",
    "plt.plot(di.rr, err_ideal)\n",
    "\n",
    "# bracket the 10% error\n",
    "r1, r2 = 5e10, 6.8e10\n",
    "ir1, ir2 = np.argmin(np.abs(di.rr - r1)), np.argmin(np.abs(di.rr - r2))\n",
    "\n",
    "di.ircut = ir2 + np.argmin(np.abs(err_ideal[ir2:] - 0.1))\n",
    "di.rcut = di.rr[di.ircut]\n",
    "\n",
    "plt.yscale('log')\n",
    "plt.plot(di.rr, 0.1*np.ones_like(di.rr))\n",
    "\n",
    "plt.plot(di.rcut*np.ones(100), np.linspace(1e-4,1,100) )\n",
    "#err_ideal[ir2]"
   ]
  },
  {
   "cell_type": "code",
   "execution_count": 29,
   "id": "811ed430",
   "metadata": {},
   "outputs": [
    {
     "data": {
      "text/plain": [
       "[<matplotlib.lines.Line2D at 0x7fc390a9b6d0>]"
      ]
     },
     "execution_count": 29,
     "metadata": {},
     "output_type": "execute_result"
    },
    {
     "data": {
      "image/png": "[encoded data removed]",
      "text/plain": [
       "<Figure size 640x480 with 1 Axes>"
      ]
     },
     "metadata": {},
     "output_type": "display_data"
    }
   ],
   "source": [
    "# find base of convection zone (where N^2 = 0)\n",
    "plt.plot(di.rr, di.nsq)\n",
    "plt.ylim(1e-10, -1e-10)\n",
    "\n",
    "# bracket the BCZ\n",
    "r1, r2 = 4e10, 6e10\n",
    "ir1, ir2 = np.argmin(np.abs(di.rr - r1)), np.argmin(np.abs(di.rr - r2))\n",
    "\n",
    "di.irbcz = ir2 + np.argmin(np.abs(di.nsq[ir2:ir1]))\n",
    "di.rbcz = di.rr[di.irbcz]\n",
    "\n",
    "plt.plot(di.rr, np.zeros_like(di.rr))\n",
    "\n",
    "plt.plot(di.rbcz*np.ones(100), np.linspace(-1e-10,1e-10, 100) )"
   ]
  },
  {
   "cell_type": "code",
   "execution_count": 30,
   "id": "23cd0fcb-f8a7-44a2-9536-2bddd398c8ed",
   "metadata": {},
   "outputs": [
    {
     "name": "stdout",
     "output_type": "stream",
     "text": [
      "rbcz = 49606266450.0\n",
      "rsun = 69599062580.0\n",
      "rbcz/rsun = 0.712743313072364\n"
     ]
    }
   ],
   "source": [
    "print (\"rbcz =\", di.rbcz)\n",
    "print (\"rsun =\", di.rsun)\n",
    "print (\"rbcz/rsun =\", di.rbcz/di.rsun)"
   ]
  },
  {
   "cell_type": "code",
   "execution_count": 31,
   "id": "ac1e12ac-2eb6-4d99-84f3-c6499c7d4b06",
   "metadata": {},
   "outputs": [
    {
     "name": "stdout",
     "output_type": "stream",
     "text": [
      "r0 = 0.7 Rsun = 48719343806.0\n",
      "r0 Gough = 48720000000.0\n",
      "T(r0) = 2327819.539\n",
      "rho(r0) = 0.2089139221\n",
      "P(r0) = 66307891850000.0\n",
      "C(r0) = 22985054.942864206\n"
     ]
    },
    {
     "data": {
      "text/plain": [
       "dict_keys(['msun', 'rsun', 'lsun', 'zsun', 'x0sun', 'alphasun', 'agesun', 'rr', 'lnq', 'grav', 'tmp', 'prs', 'rho', 'xfrac', 'lum', 'opa', 'eps', 'gamma', 'gamma_ad', 'delta', 'c_p', 'mue', 'Ne', 'ne', 'dsdr', 'nsq', 'zfrac', 'drhodr', 'dtmpdr', 'dprsdr', 'dlnrho', 'dlntmp', 'dlnprs', 'gas_constant', 'ircut', 'rcut', 'irbcz', 'rbcz', 'r0', 'ir0'])"
      ]
     },
     "execution_count": 31,
     "metadata": {},
     "output_type": "execute_result"
    }
   ],
   "source": [
    "# Hmmm...I guess we should use 0.70 x 6.96 x 10^9 since that's the value in Gough (2007)\n",
    "# sense check these values\n",
    "print (\"r0 = 0.7 Rsun =\", 0.7*di.rsun)\n",
    "r0 = di.r0 = 0.7*6.96e10\n",
    "print (\"r0 Gough =\", r0)\n",
    "ir0 = di.ir0 = np.argmin(np.abs(di.rr -r0))\n",
    "print(\"T(r0) =\", di.tmp[ir0])\n",
    "print(\"rho(r0) =\", di.rho[ir0])\n",
    "print(\"P(r0) =\", di.prs[ir0])\n",
    "print(\"C(r0) =\", np.sqrt(di.gamma*di.prs/di.rho)[ir0])\n",
    "di.keys()"
   ]
  },
  {
   "cell_type": "code",
   "execution_count": 32,
   "id": "8f12c933-006d-47f4-8336-78ef80cc88e5",
   "metadata": {},
   "outputs": [],
   "source": [
    "# see if I can figure out what's going on with Douglas's coulomb logarithm\n"
   ]
  },
  {
   "cell_type": "code",
   "execution_count": 33,
   "id": "0e8543c6-5190-4ddb-aa65-a07da2547c40",
   "metadata": {},
   "outputs": [],
   "source": [
    "# compute molecular diffusion coefficients\n",
    "# Use Miesch 2005, LRSP, 2, 1, p. 34\n",
    "# Check for updates here: http://www.livingreviews.org/lrsp-2005-1\n",
    "# UPDATE: Use Gough (2007) \n",
    "\n",
    "# For eta(r) use Garaud (1999) (don't trust Miesch 2005 in this case particularly)\n",
    "# approximate ln Lambda as varying linearly from 2.5 at r=0 to 3.5 at r = r_0\n",
    "# trust Pascale on Coulomb Logarithm\n",
    "slope = 1./di.r0\n",
    "lnlambda = di.lnlambda = 2.5 + di.rr*slope\n",
    "\n",
    "# now get the density, Coulomb logarithm, and temperature at the base of the CZ\n",
    "lnlambda0 = lnlambda[di.ir0] # should be 3.5\n",
    "tmp0 = di.tmp[di.ir0]\n",
    "rho0 = di.rho[di.ir0]\n",
    "opa0 = di.opa[di.ir0]\n",
    "\n",
    "nu0 = 27. # from Gough (2007)\n",
    "k0 = 1.4e7\n",
    "eta0 = 410.\n",
    "\n",
    "# profiles\n",
    "\n",
    "# viscosity\n",
    "di.nu_i = nu_i = 0.9*nu0*(di.tmp/tmp0)**2.5/(di.rho*di.lnlambda/rho0/lnlambda0)\n",
    "di.nu_r = nu_r = 0.1*nu0*(di.tmp/tmp0)**4./(di.rho**2*di.opa/rho0**2/opa0)\n",
    "di.nu = nu_i + nu_r\n",
    "\n",
    "# radiative diffusivity\n",
    "di.kappa =  k0*(di.tmp/tmp0)**3./(di.rho**2*di.opa/rho0**2/opa0)\n",
    "\n",
    "# magnetic diffusivity \n",
    "di.eta = eta0*di.lnlambda/lnlambda0/(di.tmp/tmp0)**1.5\n",
    "\n",
    "# molecular diffusions\n",
    "#di.nu = 1.2e-16*di.tmp**(5/2)/di.rho\n",
    "#sig_sb = 5.6704e-5 # Stefan-Boltzmann constant\n",
    "#di.kappa = 16*sig_sb*di.tmp**3/(3*di.opa*di.rho**2*di.c_p)\n",
    "##di.eta = 1e13*di.tmp**(-1.5) # from Miesch 2005\n",
    "#di.eta = 5.20e11*lnlambda*di.tmp**(-1.5) # from Garaud (1999)\n",
    "\n",
    "# molecular Prandtl numbers\n",
    "di.prm = di.nu/di.eta\n",
    "di.pr = di.nu/di.kappa\n",
    "\n",
    "# now might as well get sigma\n",
    "di.sigma = np.sqrt(np.abs(di.nsq))/(2.*sun.om_rz)*np.sqrt(di.pr)\n",
    "\n",
    "# (I convinced myself that the thermal diffusivity associated with Coulomb collisions\n",
    "# was the same as nu, for an ionized-hydrogen plasma (Collins 1989, eq. 4.4.4, p. 95))\n",
    "\n",
    "#plt.figure()\n",
    "#plt.plot(di.rr,lnlambda)"
   ]
  },
  {
   "cell_type": "code",
   "execution_count": 34,
   "id": "20d80905",
   "metadata": {},
   "outputs": [],
   "source": [
    "# compute F_rad\n",
    "di.frad = -4*np.pi*di.rr**2 * di.rho*di.c_p*di.kappa*di.dtmpdr"
   ]
  },
  {
   "cell_type": "code",
   "execution_count": 35,
   "id": "afc9a8ba",
   "metadata": {},
   "outputs": [
    {
     "data": {
      "text/plain": [
       "['#       r/R             l_rad/L\\n',\n",
       " '       1.0007119       1.0000000\\n',\n",
       " '       1.0007041       1.0000000\\n',\n",
       " '       1.0006962       1.0000000\\n',\n",
       " '       1.0006882       1.0000000\\n',\n",
       " '       1.0006801       1.0000000\\n',\n",
       " '       1.0006720       1.0000000\\n',\n",
       " '       1.0006639       1.0000000\\n',\n",
       " '       1.0006557       1.0000000\\n',\n",
       " '       1.0006475       1.0000000\\n',\n",
       " '       1.0006393       1.0000000\\n',\n",
       " '       1.0006310       1.0000000\\n',\n",
       " '       1.0006227       1.0000000\\n',\n",
       " '       1.0006143       1.0000000\\n',\n",
       " '       1.0006060       1.0000000\\n',\n",
       " '       1.0005976       1.0000000\\n',\n",
       " '       1.0005892       1.0000000\\n',\n",
       " '       1.0005807       1.0000000\\n',\n",
       " '       1.0005723       1.0000000\\n',\n",
       " '       1.0005638       1.0000000\\n',\n",
       " '       1.0005553       1.0000000\\n',\n",
       " '       1.0005468       1.0000000\\n',\n",
       " '       1.0005383       1.0000000\\n',\n",
       " '       1.0005297       1.0000000\\n',\n",
       " '       1.0005212       1.0000000\\n',\n",
       " '       1.0005126       1.0000000\\n',\n",
       " '       1.0005040       1.0000000\\n',\n",
       " '       1.0004954       1.0000000\\n',\n",
       " '       1.0004868       1.0000000\\n',\n",
       " '       1.0004781       1.0000000\\n',\n",
       " '       1.0004695       1.0000000\\n',\n",
       " '       1.0004608       1.0000000\\n',\n",
       " '       1.0004521       1.0000000\\n',\n",
       " '       1.0004435       1.0000000\\n',\n",
       " '       1.0004348       1.0000000\\n',\n",
       " '       1.0004261       1.0000000\\n',\n",
       " '       1.0004174       1.0000000\\n',\n",
       " '       1.0004087       1.0000000\\n',\n",
       " '       1.0003999       1.0000000\\n',\n",
       " '       1.0003912       1.0000000\\n',\n",
       " '       1.0003825       1.0000000\\n',\n",
       " '       1.0003737       1.0000000\\n',\n",
       " '       1.0003650       1.0000000\\n',\n",
       " '       1.0003562       1.0000000\\n',\n",
       " '       1.0003475       1.0000000\\n',\n",
       " '       1.0003387       1.0000000\\n',\n",
       " '       1.0003299       1.0000000\\n',\n",
       " '       1.0003211       1.0000000\\n',\n",
       " '       1.0003123       1.0000000\\n',\n",
       " '       1.0003034       1.0000000\\n',\n",
       " '       1.0002945       1.0000000\\n',\n",
       " '       1.0002856       1.0000000\\n',\n",
       " '       1.0002766       1.0000000\\n',\n",
       " '       1.0002677       1.0000000\\n',\n",
       " '       1.0002586       1.0000000\\n',\n",
       " '       1.0002496       1.0000000\\n',\n",
       " '       1.0002404       1.0000000\\n',\n",
       " '       1.0002312       1.0000000\\n',\n",
       " '       1.0002219       1.0000000\\n',\n",
       " '       1.0002126       1.0000000\\n',\n",
       " '       1.0002033       1.0000000\\n',\n",
       " '       1.0001938       1.0000000\\n',\n",
       " '       1.0001844       1.0000000\\n',\n",
       " '       1.0001748       1.0000000\\n',\n",
       " '       1.0001652       1.0000000\\n',\n",
       " '       1.0001556       1.0000000\\n',\n",
       " '       1.0001459       1.0000000\\n',\n",
       " '       1.0001362       1.0000000\\n',\n",
       " '       1.0001264       1.0000000\\n',\n",
       " '       1.0001166       1.0000000\\n',\n",
       " '       1.0001068       1.0000000\\n',\n",
       " '       1.0000970       1.0000000\\n',\n",
       " '       1.0000871       1.0000000\\n',\n",
       " '       1.0000772       1.0000000\\n',\n",
       " '       1.0000673       1.0000000\\n',\n",
       " '       1.0000575       1.0000000\\n',\n",
       " '       1.0000477       1.0000000\\n',\n",
       " '       1.0000379       1.0000000\\n',\n",
       " '       1.0000282       1.0000000\\n',\n",
       " '       1.0000187       1.0000000\\n',\n",
       " '       1.0000093       1.0000000\\n',\n",
       " '       1.0000000       1.0000000\\n',\n",
       " '      0.99999667       1.0000000\\n',\n",
       " '      0.99999336       1.0000000\\n',\n",
       " '      0.99999008       1.0000000\\n',\n",
       " '      0.99998683       1.0000000\\n',\n",
       " '      0.99998361       1.0000000\\n',\n",
       " '      0.99998043       1.0000000\\n',\n",
       " '      0.99997729       1.0000000\\n',\n",
       " '      0.99997419       1.0000000\\n',\n",
       " '      0.99997113       1.0000000\\n',\n",
       " '      0.99996812       1.0000000\\n',\n",
       " '      0.99996516       1.0000000\\n',\n",
       " '      0.99996225       1.0000000\\n',\n",
       " '      0.99995939       1.0000000\\n',\n",
       " '      0.99995658       1.0000000\\n',\n",
       " '      0.99995383       1.0000000\\n',\n",
       " '      0.99995114       1.0000000\\n',\n",
       " '      0.99994851       1.0000000\\n',\n",
       " '      0.99994595       1.0000000\\n',\n",
       " '      0.99994344       1.0000000\\n',\n",
       " '      0.99994101      0.99999982\\n',\n",
       " '      0.99993863      0.99999860\\n',\n",
       " '      0.99993632      0.99999464\\n',\n",
       " '      0.99993408      0.99998493\\n',\n",
       " '      0.99993191      0.99996469\\n',\n",
       " '      0.99992980      0.99992654\\n',\n",
       " '      0.99992776      0.99985960\\n',\n",
       " '      0.99992578      0.99974842\\n',\n",
       " '      0.99992387      0.99957162\\n',\n",
       " '      0.99992202      0.99930059\\n',\n",
       " '      0.99992023      0.99889805\\n',\n",
       " '      0.99991849      0.99831625\\n',\n",
       " '      0.99991680      0.99749629\\n',\n",
       " '      0.99991516      0.99636639\\n',\n",
       " '      0.99991357      0.99484098\\n',\n",
       " '      0.99991201      0.99281604\\n',\n",
       " '      0.99991048      0.99016802\\n',\n",
       " '      0.99990899      0.98675667\\n',\n",
       " '      0.99990751      0.98242308\\n',\n",
       " '      0.99990604      0.97699330\\n',\n",
       " '      0.99990458      0.97027464\\n',\n",
       " '      0.99990312      0.96206173\\n',\n",
       " '      0.99990165      0.95214310\\n',\n",
       " '      0.99990018      0.94031101\\n',\n",
       " '      0.99989868      0.92637462\\n',\n",
       " '      0.99989715      0.91017649\\n',\n",
       " '      0.99989560      0.89161963\\n',\n",
       " '      0.99989402      0.87070492\\n',\n",
       " '      0.99989240      0.84751599\\n',\n",
       " '      0.99989075      0.82218263\\n',\n",
       " '      0.99988906      0.79493903\\n',\n",
       " '      0.99988734      0.76610281\\n',\n",
       " '      0.99988559      0.73604440\\n',\n",
       " '      0.99988381      0.70520686\\n',\n",
       " '      0.99988202      0.67401132\\n',\n",
       " '      0.99988020      0.64280740\\n',\n",
       " '      0.99987836      0.61188992\\n',\n",
       " '      0.99987650      0.58149226\\n',\n",
       " '      0.99987462      0.55179245\\n',\n",
       " '      0.99987272      0.52296198\\n',\n",
       " '      0.99987080      0.49510303\\n',\n",
       " '      0.99986886      0.46829029\\n',\n",
       " '      0.99986688      0.44254586\\n',\n",
       " '      0.99986487      0.41786705\\n',\n",
       " '      0.99986284      0.39424666\\n',\n",
       " '      0.99986076      0.37170109\\n',\n",
       " '      0.99985865      0.35021157\\n',\n",
       " '      0.99985649      0.32976909\\n',\n",
       " '      0.99985429      0.31035048\\n',\n",
       " '      0.99985205      0.29191406\\n',\n",
       " '      0.99984975      0.27442360\\n',\n",
       " '      0.99984740      0.25785829\\n',\n",
       " '      0.99984500      0.24217381\\n',\n",
       " '      0.99984254      0.22732933\\n',\n",
       " '      0.99984003      0.21330753\\n',\n",
       " '      0.99983745      0.20006821\\n',\n",
       " '      0.99983481      0.18758015\\n',\n",
       " '      0.99983210      0.17581665\\n',\n",
       " '      0.99982933      0.16474136\\n',\n",
       " '      0.99982649      0.15431962\\n',\n",
       " '      0.99982358      0.14451795\\n',\n",
       " '      0.99982060      0.13530425\\n',\n",
       " '      0.99981755      0.12665618\\n',\n",
       " '      0.99981442      0.11854429\\n',\n",
       " '      0.99981121      0.11093640\\n',\n",
       " '      0.99980793      0.10380206\\n',\n",
       " '      0.99980457     0.097110544\\n',\n",
       " '      0.99980113     0.090837216\\n',\n",
       " '      0.99979761     0.084966142\\n',\n",
       " '      0.99979400     0.079475388\\n',\n",
       " '      0.99979032     0.074342695\\n',\n",
       " '      0.99978655     0.069546399\\n',\n",
       " '      0.99978269     0.065065781\\n',\n",
       " '      0.99977876     0.060882707\\n',\n",
       " '      0.99977473     0.056978985\\n',\n",
       " '      0.99977063     0.053336951\\n',\n",
       " '      0.99976643     0.049940619\\n',\n",
       " '      0.99976215     0.046770952\\n',\n",
       " '      0.99975779     0.043808037\\n',\n",
       " '      0.99975334     0.041043153\\n',\n",
       " '      0.99974880     0.038463462\\n',\n",
       " '      0.99974418     0.036053347\\n',\n",
       " '      0.99973947     0.033803737\\n',\n",
       " '      0.99973467     0.031704586\\n',\n",
       " '      0.99972979     0.029746023\\n',\n",
       " '      0.99972482     0.027918660\\n',\n",
       " '      0.99971977     0.026213608\\n',\n",
       " '      0.99971463     0.024622502\\n',\n",
       " '      0.99970940     0.023137512\\n',\n",
       " '      0.99970410     0.021751309\\n',\n",
       " '      0.99969871     0.020457027\\n',\n",
       " '      0.99969323     0.019248547\\n',\n",
       " '      0.99968768     0.018120560\\n',\n",
       " '      0.99968204     0.017065857\\n',\n",
       " '      0.99967632     0.016077863\\n',\n",
       " '      0.99967052     0.015154977\\n',\n",
       " '      0.99966464     0.014291238\\n',\n",
       " '      0.99965868     0.013482850\\n',\n",
       " '      0.99965264     0.012726232\\n',\n",
       " '      0.99964652     0.012017941\\n',\n",
       " '      0.99964033     0.011354726\\n',\n",
       " '      0.99963405     0.010733477\\n',\n",
       " '      0.99962771     0.010151209\\n',\n",
       " '      0.99962129    0.0096053358\\n',\n",
       " '      0.99961479    0.0090934458\\n',\n",
       " '      0.99960822    0.0086132866\\n',\n",
       " '      0.99960158    0.0081627514\\n',\n",
       " '      0.99959487    0.0077395566\\n',\n",
       " '      0.99958809    0.0073414565\\n',\n",
       " '      0.99958123    0.0069668455\\n',\n",
       " '      0.99957431    0.0066142369\\n',\n",
       " '      0.99956732    0.0062822416\\n',\n",
       " '      0.99956026    0.0059695651\\n',\n",
       " '      0.99955313    0.0056749900\\n',\n",
       " '      0.99954593    0.0053972887\\n',\n",
       " '      0.99953867    0.0051354896\\n',\n",
       " '      0.99953134    0.0048883025\\n',\n",
       " '      0.99952394    0.0046539600\\n',\n",
       " '      0.99951648    0.0044323184\\n',\n",
       " '      0.99950896    0.0042231771\\n',\n",
       " '      0.99950137    0.0040255231\\n',\n",
       " '      0.99949372    0.0038383195\\n',\n",
       " '      0.99948600    0.0036611181\\n',\n",
       " '      0.99947823    0.0034934033\\n',\n",
       " '      0.99947039    0.0033346567\\n',\n",
       " '      0.99946249    0.0031843767\\n',\n",
       " '      0.99945453    0.0030420773\\n',\n",
       " '      0.99944651    0.0029072524\\n',\n",
       " '      0.99943843    0.0027794764\\n',\n",
       " '      0.99943029    0.0026582032\\n',\n",
       " '      0.99942210    0.0025430208\\n',\n",
       " '      0.99941384    0.0024335988\\n',\n",
       " '      0.99940553    0.0023296263\\n',\n",
       " '      0.99939716    0.0022307918\\n',\n",
       " '      0.99938874    0.0021367875\\n',\n",
       " '      0.99938025    0.0020473708\\n',\n",
       " '      0.99937171    0.0019623181\\n',\n",
       " '      0.99936312    0.0018814260\\n',\n",
       " '      0.99935446    0.0018045161\\n',\n",
       " '      0.99934576    0.0017314459\\n',\n",
       " '      0.99933699    0.0016620093\\n',\n",
       " '      0.99932817    0.0015956104\\n',\n",
       " '      0.99931930    0.0015321461\\n',\n",
       " '      0.99931037    0.0014715613\\n',\n",
       " '      0.99930139    0.0014137789\\n',\n",
       " '      0.99929235    0.0013587131\\n',\n",
       " '      0.99928326    0.0013062759\\n',\n",
       " '      0.99927412    0.0012562387\\n',\n",
       " '      0.99926492    0.0012083928\\n',\n",
       " '      0.99925568    0.0011625854\\n',\n",
       " '      0.99924638    0.0011187282\\n',\n",
       " '      0.99923702    0.0010767369\\n',\n",
       " '      0.99922762    0.0010365299\\n',\n",
       " '      0.99921816   0.00099802805\\n',\n",
       " '      0.99920866   0.00096115580\\n',\n",
       " '      0.99919910   0.00092584064\\n',\n",
       " '      0.99918949   0.00089201340\\n',\n",
       " '      0.99917982   0.00085960809\\n',\n",
       " '      0.99917011   0.00082856185\\n',\n",
       " '      0.99916034   0.00079881488\\n',\n",
       " '      0.99915053   0.00077030974\\n',\n",
       " '      0.99914066   0.00074297553\\n',\n",
       " '      0.99913074   0.00071675652\\n',\n",
       " '      0.99912077   0.00069160859\\n',\n",
       " '      0.99911075   0.00066748932\\n',\n",
       " '      0.99910068   0.00064435803\\n',\n",
       " '      0.99909056   0.00062217398\\n',\n",
       " '      0.99908039   0.00060087119\\n',\n",
       " '      0.99907018   0.00058040446\\n',\n",
       " '      0.99905991   0.00056074123\\n',\n",
       " '      0.99904959   0.00054185078\\n',\n",
       " '      0.99903923   0.00052370429\\n',\n",
       " '      0.99902881   0.00050627489\\n',\n",
       " '      0.99901834   0.00048953774\\n',\n",
       " '      0.99900783   0.00047346996\\n',\n",
       " '      0.99899726   0.00045804190\\n',\n",
       " '      0.99898665   0.00044323290\\n',\n",
       " '      0.99897599   0.00042896569\\n',\n",
       " '      0.99896527   0.00041518146\\n',\n",
       " '      0.99895451   0.00040187284\\n',\n",
       " '      0.99894370   0.00038903004\\n',\n",
       " '      0.99893284   0.00037664175\\n',\n",
       " '      0.99892193   0.00036469562\\n',\n",
       " '      0.99891097   0.00035317868\\n',\n",
       " '      0.99889996   0.00034207657\\n',\n",
       " '      0.99888890   0.00033136338\\n',\n",
       " '      0.99887780   0.00032102254\\n',\n",
       " '      0.99886665   0.00031104157\\n',\n",
       " '      0.99885544   0.00030140799\\n',\n",
       " '      0.99884419   0.00029210478\\n',\n",
       " '      0.99883290   0.00028311925\\n',\n",
       " '      0.99882155   0.00027444113\\n',\n",
       " '      0.99881015   0.00026606040\\n',\n",
       " '      0.99879870   0.00025796734\\n',\n",
       " '      0.99878721   0.00025015253\\n',\n",
       " '      0.99877566   0.00024260683\\n',\n",
       " '      0.99876407   0.00023532142\\n',\n",
       " '      0.99875243   0.00022828782\\n',\n",
       " '      0.99874073   0.00022149784\\n',\n",
       " '      0.99872899   0.00021494367\\n',\n",
       " '      0.99871720   0.00020861786\\n',\n",
       " '      0.99870536   0.00020251339\\n',\n",
       " '      0.99869348   0.00019661718\\n',\n",
       " '      0.99868154   0.00019089850\\n',\n",
       " '      0.99866956   0.00018535216\\n',\n",
       " '      0.99865753   0.00017997544\\n',\n",
       " '      0.99864544   0.00017476529\\n',\n",
       " '      0.99863331   0.00016971845\\n',\n",
       " '      0.99862113   0.00016483156\\n',\n",
       " '      0.99860890   0.00016010126\\n',\n",
       " '      0.99859662   0.00015552429\\n',\n",
       " '      0.99858429   0.00015109758\\n',\n",
       " '      0.99857192   0.00014681833\\n',\n",
       " '      0.99855949   0.00014268416\\n',\n",
       " '      0.99854701   0.00013869326\\n',\n",
       " '      0.99853448   0.00013484462\\n',\n",
       " '      0.99852190   0.00013112616\\n',\n",
       " '      0.99850927   0.00012751173\\n',\n",
       " '      0.99849660   0.00012399999\\n',\n",
       " '      0.99848387   0.00012058965\\n',\n",
       " '      0.99847110   0.00011727717\\n',\n",
       " '      0.99845827   0.00011405998\\n',\n",
       " '      0.99844540   0.00011093603\\n',\n",
       " '      0.99843247   0.00010790311\\n',\n",
       " '      0.99841950   0.00010495892\\n',\n",
       " '      0.99840647   0.00010210114\\n',\n",
       " '      0.99839340   9.9327423e-05\\n',\n",
       " '      0.99838027   9.6635408e-05\\n',\n",
       " '      0.99836709   9.4022737e-05\\n',\n",
       " '      0.99835387   9.1486361e-05\\n',\n",
       " '      0.99834059   8.9023707e-05\\n',\n",
       " '      0.99832726   8.6632606e-05\\n',\n",
       " '      0.99831387   8.4310933e-05\\n',\n",
       " '      0.99830044   8.2056610e-05\\n',\n",
       " '      0.99828696   7.9867596e-05\\n',\n",
       " '      0.99827342   7.7741891e-05\\n',\n",
       " '      0.99825984   7.5677517e-05\\n',\n",
       " '      0.99824620   7.3672351e-05\\n',\n",
       " '      0.99823251   7.1724363e-05\\n',\n",
       " '      0.99821878   6.9831941e-05\\n',\n",
       " '      0.99820499   6.7993509e-05\\n',\n",
       " '      0.99819114   6.6207390e-05\\n',\n",
       " '      0.99817725   6.4471614e-05\\n',\n",
       " '      0.99816331   6.2784645e-05\\n',\n",
       " '      0.99814931   6.1145020e-05\\n',\n",
       " '      0.99813526   5.9551323e-05\\n',\n",
       " '      0.99812116   5.8002177e-05\\n',\n",
       " '      0.99810700   5.6496246e-05\\n',\n",
       " '      0.99809279   5.5032234e-05\\n',\n",
       " '      0.99807853   5.3608879e-05\\n',\n",
       " '      0.99806421   5.2224948e-05\\n',\n",
       " '      0.99804984   5.0879230e-05\\n',\n",
       " '      0.99803542   4.9570628e-05\\n',\n",
       " '      0.99802095   4.8298224e-05\\n',\n",
       " '      0.99800642   4.7060302e-05\\n',\n",
       " '      0.99799184   4.5856084e-05\\n',\n",
       " '      0.99797721   4.4684706e-05\\n',\n",
       " '      0.99796252   4.3545283e-05\\n',\n",
       " '      0.99794778   4.2436951e-05\\n',\n",
       " '      0.99793299   4.1358869e-05\\n',\n",
       " '      0.99791814   4.0310220e-05\\n',\n",
       " '      0.99790324   3.9290203e-05\\n',\n",
       " '      0.99788828   3.8298041e-05\\n',\n",
       " '      0.99787327   3.7332970e-05\\n',\n",
       " '      0.99785820   3.6394245e-05\\n',\n",
       " '      0.99784308   3.5481103e-05\\n',\n",
       " '      0.99782790   3.4592743e-05\\n',\n",
       " '      0.99781267   3.3728407e-05\\n',\n",
       " '      0.99779738   3.2887347e-05\\n',\n",
       " '      0.99778204   3.2068819e-05\\n',\n",
       " '      0.99776664   3.1272086e-05\\n',\n",
       " '      0.99775118   3.0496418e-05\\n',\n",
       " '      0.99773567   2.9741458e-05\\n',\n",
       " '      0.99772011   2.9006904e-05\\n',\n",
       " '      0.99770449   2.8292244e-05\\n',\n",
       " '      0.99768881   2.7596987e-05\\n',\n",
       " '      0.99767308   2.6920680e-05\\n',\n",
       " '      0.99765729   2.6262910e-05\\n',\n",
       " '      0.99764144   2.5623228e-05\\n',\n",
       " '      0.99762554   2.5001207e-05\\n',\n",
       " '      0.99760958   2.4396455e-05\\n',\n",
       " '      0.99759356   2.3808619e-05\\n',\n",
       " '      0.99757748   2.3237401e-05\\n',\n",
       " '      0.99756134   2.2682582e-05\\n',\n",
       " '      0.99754515   2.2144064e-05\\n',\n",
       " '      0.99752890   2.1621943e-05\\n',\n",
       " '      0.99751259   2.1115360e-05\\n',\n",
       " '      0.99749622   2.0618074e-05\\n',\n",
       " '      0.99747979   2.0130223e-05\\n',\n",
       " '      0.99746331   1.9652674e-05\\n',\n",
       " '      0.99744677   1.9186390e-05\\n',\n",
       " '      0.99743017   1.8731778e-05\\n',\n",
       " '      0.99741351   1.8289038e-05\\n',\n",
       " '      0.99739679   1.7858274e-05\\n',\n",
       " '      0.99738001   1.7439530e-05\\n',\n",
       " '      0.99736317   1.7032824e-05\\n',\n",
       " '      0.99734627   1.6638167e-05\\n',\n",
       " '      0.99732931   1.6255086e-05\\n',\n",
       " '      0.99731229   1.5880942e-05\\n',\n",
       " '      0.99729521   1.5515444e-05\\n',\n",
       " '      0.99727807   1.5158578e-05\\n',\n",
       " '      0.99726087   1.4810239e-05\\n',\n",
       " '      0.99724361   1.4470265e-05\\n',\n",
       " '      0.99722628   1.4138461e-05\\n',\n",
       " '      0.99720889   1.3814615e-05\\n',\n",
       " '      0.99719144   1.3498500e-05\\n',\n",
       " '      0.99717393   1.3189881e-05\\n',\n",
       " '      0.99715636   1.2888741e-05\\n',\n",
       " '      0.99713873   1.2595310e-05\\n',\n",
       " '      0.99712103   1.2309440e-05\\n',\n",
       " '      0.99710328   1.2030977e-05\\n',\n",
       " '      0.99708546   1.1759783e-05\\n',\n",
       " '      0.99706757   1.1495736e-05\\n',\n",
       " '      0.99704963   1.1238743e-05\\n',\n",
       " '      0.99703162   1.0988744e-05\\n',\n",
       " '      0.99701355   1.0745727e-05\\n',\n",
       " '      0.99699541   1.0509756e-05\\n',\n",
       " '      0.99697721   1.0280971e-05\\n',\n",
       " '      0.99695894   1.0058519e-05\\n',\n",
       " '      0.99694061   9.8418090e-06\\n',\n",
       " '      0.99692221   9.6305010e-06\\n',\n",
       " '      0.99690375   9.4242998e-06\\n',\n",
       " '      0.99688522   9.2229407e-06\\n',\n",
       " '      0.99686663   9.0261804e-06\\n',\n",
       " '      0.99684797   8.8337908e-06\\n',\n",
       " '      0.99682925   8.6457516e-06\\n',\n",
       " '      0.99681046   8.4621872e-06\\n',\n",
       " '      0.99679161   8.2830395e-06\\n',\n",
       " '      0.99677269   8.1081437e-06\\n',\n",
       " '      0.99675371   7.9373424e-06\\n',\n",
       " '      0.99673466   7.7704850e-06\\n',\n",
       " '      0.99671554   7.6074271e-06\\n',\n",
       " '      0.99669635   7.4480292e-06\\n',\n",
       " '      0.99667710   7.2921557e-06\\n',\n",
       " '      0.99665778   7.1396784e-06\\n',\n",
       " '      0.99663839   6.9908085e-06\\n',\n",
       " '      0.99661893   6.8456125e-06\\n',\n",
       " '      0.99659940   6.7039389e-06\\n',\n",
       " '      0.99657981   6.5656404e-06\\n',\n",
       " '      0.99656014   6.4305730e-06\\n',\n",
       " '      0.99654041   6.2985953e-06\\n',\n",
       " '      0.99652060   6.1695675e-06\\n',\n",
       " '      0.99650073   6.0433511e-06\\n',\n",
       " '      0.99648079   5.9199185e-06\\n',\n",
       " '      0.99646078   5.7993541e-06\\n',\n",
       " '      0.99644070   5.6815630e-06\\n',\n",
       " '      0.99642055   5.5664469e-06\\n',\n",
       " '      0.99640033   5.4539076e-06\\n',\n",
       " '      0.99638004   5.3438471e-06\\n',\n",
       " '      0.99635968   5.2361666e-06\\n',\n",
       " '      0.99633925   5.1307654e-06\\n',\n",
       " '      0.99631874   5.0275407e-06\\n',\n",
       " '      0.99629816   4.9263862e-06\\n',\n",
       " '      0.99627751   4.8271904e-06\\n',\n",
       " '      0.99625679   4.7298352e-06\\n',\n",
       " '      0.99623600   4.6342321e-06\\n',\n",
       " '      0.99621513   4.5403916e-06\\n',\n",
       " '      0.99619419   4.4483328e-06\\n',\n",
       " '      0.99617318   4.3581102e-06\\n',\n",
       " '      0.99615209   4.2697203e-06\\n',\n",
       " '      0.99613093   4.1831392e-06\\n',\n",
       " '      0.99610970   4.0983462e-06\\n',\n",
       " '      0.99608839   4.0154756e-06\\n',\n",
       " '      0.99606701   3.9345381e-06\\n',\n",
       " '      0.99604556   3.8554945e-06\\n',\n",
       " '      0.99602403   3.7783018e-06\\n',\n",
       " '      0.99600243   3.7029137e-06\\n',\n",
       " '      0.99598076   3.6292821e-06\\n',\n",
       " '      0.99595900   3.5573572e-06\\n',\n",
       " '      0.99593717   3.4870883e-06\\n',\n",
       " '      0.99591527   3.4184240e-06\\n',\n",
       " '      0.99589329   3.3513124e-06\\n',\n",
       " '      0.99587123   3.2857018e-06\\n',\n",
       " '      0.99584909   3.2215401e-06\\n',\n",
       " '      0.99582688   3.1588575e-06\\n',\n",
       " '      0.99580459   3.0976889e-06\\n',\n",
       " '      0.99578222   3.0379753e-06\\n',\n",
       " '      0.99575978   2.9796580e-06\\n',\n",
       " '      0.99573726   2.9226786e-06\\n',\n",
       " '      0.99571466   2.8669790e-06\\n',\n",
       " '      0.99569198   2.8125251e-06\\n',\n",
       " '      0.99566923   2.7593852e-06\\n',\n",
       " '      0.99564639   2.7075328e-06\\n',\n",
       " '      0.99562348   2.6569252e-06\\n',\n",
       " '      0.99560049   2.6075203e-06\\n',\n",
       " '      0.99557742   2.5592768e-06\\n',\n",
       " '      0.99555427   2.5121537e-06\\n',\n",
       " '      0.99553104   2.4661107e-06\\n',\n",
       " '      0.99550773   2.4211083e-06\\n',\n",
       " '      0.99548434   2.3771074e-06\\n',\n",
       " '      0.99546087   2.3340697e-06\\n',\n",
       " '      0.99543731   2.2920196e-06\\n',\n",
       " '      0.99541368   2.2509872e-06\\n',\n",
       " '      0.99538996   2.2109342e-06\\n',\n",
       " '      0.99536616   2.1718227e-06\\n',\n",
       " '      0.99534228   2.1336152e-06\\n',\n",
       " '      0.99531831   2.0962744e-06\\n',\n",
       " '      0.99529427   2.0597634e-06\\n',\n",
       " '      0.99527014   2.0240461e-06\\n',\n",
       " '      0.99524592   1.9890888e-06\\n',\n",
       " '      0.99522163   1.9549250e-06\\n',\n",
       " '      0.99519725   1.9215569e-06\\n',\n",
       " '      0.99517279   1.8889564e-06\\n',\n",
       " '      0.99514824   1.8570963e-06\\n',\n",
       " '      0.99512361   1.8259501e-06\\n',\n",
       " '      0.99509890   1.7954934e-06\\n',\n",
       " '      0.99507409   1.7657150e-06\\n',\n",
       " '      0.99504921   1.7366353e-06\\n',\n",
       " '      0.99502423   1.7081511e-06\\n',\n",
       " '      0.99499917   1.6803180e-06\\n',\n",
       " '      0.99497402   1.6531756e-06\\n',\n",
       " '      0.99494879   1.6266761e-06\\n',\n",
       " '      0.99492347   1.6007865e-06\\n',\n",
       " '      0.99489806   1.5754787e-06\\n',\n",
       " '      0.99487256   1.5507267e-06\\n',\n",
       " '      0.99484698   1.5265054e-06\\n',\n",
       " '      0.99482130   1.5027906e-06\\n',\n",
       " '      0.99479554   1.4795588e-06\\n',\n",
       " '      0.99476968   1.4567866e-06\\n',\n",
       " '      0.99474374   1.4344540e-06\\n',\n",
       " '      0.99471771   1.4125840e-06\\n',\n",
       " '      0.99469159   1.3912055e-06\\n',\n",
       " '      0.99466537   1.3703280e-06\\n',\n",
       " '      0.99463907   1.3499363e-06\\n',\n",
       " '      0.99461268   1.3300150e-06\\n',\n",
       " '      0.99458619   1.3105486e-06\\n',\n",
       " '      0.99455961   1.2915214e-06\\n',\n",
       " '      0.99453294   1.2729176e-06\\n',\n",
       " '      0.99450618   1.2547216e-06\\n',\n",
       " '      0.99447932   1.2369177e-06\\n',\n",
       " '      0.99445237   1.2194903e-06\\n',\n",
       " '      0.99442532   1.2024241e-06\\n',\n",
       " '      0.99439818   1.1857037e-06\\n',\n",
       " '      0.99437095   1.1693140e-06\\n',\n",
       " '      0.99434361   1.1532494e-06\\n',\n",
       " '      0.99431619   1.1375169e-06\\n',\n",
       " '      0.99428866   1.1221075e-06\\n',\n",
       " '      0.99426104   1.1070109e-06\\n',\n",
       " '      0.99423332   1.0922172e-06\\n',\n",
       " '      0.99420551   1.0777163e-06\\n',\n",
       " '      0.99417760   1.0635071e-06\\n',\n",
       " '      0.99414959   1.0496074e-06\\n',\n",
       " '      0.99412148   1.0360096e-06\\n',\n",
       " '      0.99409327   1.0227042e-06\\n',\n",
       " '      0.99406497   1.0096812e-06\\n',\n",
       " '      0.99403656   9.9693015e-07\\n',\n",
       " '      0.99400806   9.8444167e-07\\n',\n",
       " '      0.99397945   9.7221496e-07\\n',\n",
       " '      0.99395074   9.6024447e-07\\n',\n",
       " '      0.99392194   9.4852248e-07\\n',\n",
       " '      0.99389303   9.3704050e-07\\n',\n",
       " '      0.99386401   9.2578868e-07\\n',\n",
       " '      0.99383490   9.1475452e-07\\n',\n",
       " '      0.99380568   9.0391992e-07\\n',\n",
       " '      0.99377636   8.9328844e-07\\n',\n",
       " '      0.99374693   8.8287590e-07\\n',\n",
       " '      0.99371740   8.7268791e-07\\n',\n",
       " '      0.99368777   8.6272733e-07\\n',\n",
       " '      0.99365803   8.5299125e-07\\n',\n",
       " '      0.99362818   8.4346265e-07\\n',\n",
       " '      0.99359823   8.3412967e-07\\n',\n",
       " '      0.99356817   8.2498585e-07\\n',\n",
       " '      0.99353800   8.1604272e-07\\n',\n",
       " '      0.99350773   8.0730197e-07\\n',\n",
       " '      0.99347735   7.9875953e-07\\n',\n",
       " '      0.99344686   7.9041128e-07\\n',\n",
       " '      0.99341627   7.8225304e-07\\n',\n",
       " '      0.99338557   7.7428041e-07\\n',\n",
       " '      0.99335475   7.6648883e-07\\n',\n",
       " '      0.99332383   7.5887118e-07\\n',\n",
       " '      0.99329279   7.5142277e-07\\n',\n",
       " '      0.99326165   7.4414180e-07\\n',\n",
       " '      0.99323039   7.3702645e-07\\n',\n",
       " '      0.99319902   7.3007494e-07\\n',\n",
       " '      0.99316754   7.2328552e-07\\n',\n",
       " '      0.99313594   7.1665645e-07\\n',\n",
       " '      0.99310423   7.1018604e-07\\n',\n",
       " '      0.99307241   7.0387258e-07\\n',\n",
       " '      0.99304047   6.9771439e-07\\n',\n",
       " '      0.99300842   6.9170601e-07\\n',\n",
       " '      0.99297625   6.8583891e-07\\n',\n",
       " '      0.99294396   6.8011142e-07\\n',\n",
       " '      0.99291156   6.7452196e-07\\n',\n",
       " '      0.99287904   6.6906891e-07\\n',\n",
       " '      0.99284640   6.6375889e-07\\n',\n",
       " '      0.99281365   6.5859942e-07\\n',\n",
       " '      0.99278078   6.5359040e-07\\n',\n",
       " '      0.99274779   6.4873197e-07\\n',\n",
       " '      0.99271468   6.4402438e-07\\n',\n",
       " '      0.99268145   6.3946186e-07\\n',\n",
       " '      0.99264810   6.3504103e-07\\n',\n",
       " '      0.99261463   6.3076206e-07\\n',\n",
       " '      0.99258104   6.2662540e-07\\n',\n",
       " '      0.99254733   6.2263130e-07\\n',\n",
       " '      0.99251349   6.1878848e-07\\n',\n",
       " '      0.99247954   6.1510624e-07\\n',\n",
       " '      0.99244546   6.1159272e-07\\n',\n",
       " '      0.99241126   6.0825575e-07\\n',\n",
       " '      0.99237694   6.0506772e-07\\n',\n",
       " '      0.99234249   6.0200621e-07\\n',\n",
       " '      0.99230793   5.9907925e-07\\n',\n",
       " '      0.99227324   5.9629141e-07\\n',\n",
       " '      0.99223842   5.9364565e-07\\n',\n",
       " '      0.99220349   5.9114391e-07\\n',\n",
       " '      0.99216843   5.8878745e-07\\n',\n",
       " '      0.99213325   5.8657694e-07\\n',\n",
       " '      0.99209794   5.8451245e-07\\n',\n",
       " '      0.99206251   5.8259656e-07\\n',\n",
       " '      0.99202696   5.8084119e-07\\n',\n",
       " '      0.99199129   5.7924766e-07\\n',\n",
       " '      0.99195549   5.7781607e-07\\n',\n",
       " '      0.99191957   5.7654637e-07\\n',\n",
       " '      0.99188353   5.7543840e-07\\n',\n",
       " '      0.99184736   5.7449206e-07\\n',\n",
       " '      0.99181107   5.7370737e-07\\n',\n",
       " '      0.99177465   5.7308875e-07\\n',\n",
       " '      0.99173811   5.7264023e-07\\n',\n",
       " '      0.99170145   5.7236230e-07\\n',\n",
       " '      0.99166466   5.7225544e-07\\n',\n",
       " '      0.99162774   5.7232030e-07\\n',\n",
       " '      0.99159070   5.7255775e-07\\n',\n",
       " '      0.99155353   5.7296914e-07\\n',\n",
       " '      0.99151624   5.7355667e-07\\n',\n",
       " '      0.99147882   5.7432997e-07\\n',\n",
       " '      0.99144127   5.7530063e-07\\n',\n",
       " '      0.99140359   5.7648433e-07\\n',\n",
       " '      0.99136578   5.7788621e-07\\n',\n",
       " '      0.99132784   5.7943071e-07\\n',\n",
       " '      0.99128978   5.8114195e-07\\n',\n",
       " '      0.99125158   5.8305626e-07\\n',\n",
       " '      0.99121325   5.8519331e-07\\n',\n",
       " '      0.99117479   5.8750791e-07\\n',\n",
       " '      0.99113620   5.9000912e-07\\n',\n",
       " '      0.99109748   5.9270604e-07\\n',\n",
       " '      0.99105863   5.9560251e-07\\n',\n",
       " '      0.99101964   5.9870134e-07\\n',\n",
       " '      0.99098052   6.0200495e-07\\n',\n",
       " '      0.99094127   6.0551574e-07\\n',\n",
       " '      0.99090188   6.0923616e-07\\n',\n",
       " '      0.99086236   6.1316833e-07\\n',\n",
       " '      0.99082270   6.1731416e-07\\n',\n",
       " '      0.99078290   6.2167541e-07\\n',\n",
       " '      0.99074297   6.2625368e-07\\n',\n",
       " '      0.99070291   6.3105034e-07\\n',\n",
       " '      0.99066271   6.3606666e-07\\n',\n",
       " '      0.99062237   6.4130524e-07\\n',\n",
       " '      0.99058189   6.4676904e-07\\n',\n",
       " '      0.99054128   6.5246065e-07\\n',\n",
       " '      0.99050053   6.5838217e-07\\n',\n",
       " '      0.99045964   6.6453516e-07\\n',\n",
       " '      0.99041862   6.7092050e-07\\n',\n",
       " '      0.99037745   6.7753901e-07\\n',\n",
       " '      0.99033615   6.8439172e-07\\n',\n",
       " '      0.99029470   6.9147766e-07\\n',\n",
       " '      0.99025312   6.9879257e-07\\n',\n",
       " '      0.99021140   7.0633881e-07\\n',\n",
       " '      0.99016953   7.1416002e-07\\n',\n",
       " '      0.99012753   7.2219013e-07\\n',\n",
       " '      0.99008538   7.3046491e-07\\n',\n",
       " '      0.99004309   7.3899883e-07\\n',\n",
       " '      0.99000066   7.4779310e-07\\n',\n",
       " '      0.98995808   7.5684821e-07\\n',\n",
       " '      0.98991536   7.6616490e-07\\n',\n",
       " '      0.98987250   7.7574411e-07\\n',\n",
       " '      0.98982949   7.8559086e-07\\n',\n",
       " '      0.98978634   7.9571036e-07\\n',\n",
       " '      0.98974303   8.0610726e-07\\n',\n",
       " '      0.98969958   8.1678613e-07\\n',\n",
       " '      0.98965598   8.2775136e-07\\n',\n",
       " '      0.98961223   8.3900666e-07\\n',\n",
       " '      0.98956833   8.5055349e-07\\n',\n",
       " '      0.98952428   8.6239653e-07\\n',\n",
       " '      0.98948008   8.7454119e-07\\n',\n",
       " '      0.98943572   8.8699288e-07\\n',\n",
       " '      0.98939121   8.9975703e-07\\n',\n",
       " '      0.98934654   9.1283743e-07\\n',\n",
       " '      0.98930172   9.2623523e-07\\n',\n",
       " '      0.98925674   9.3995457e-07\\n',\n",
       " '      0.98921161   9.5399934e-07\\n',\n",
       " '      0.98916631   9.6837302e-07\\n',\n",
       " '      0.98912085   9.8307844e-07\\n',\n",
       " '      0.98907524   9.9812295e-07\\n',\n",
       " '      0.98902945   1.0135256e-06\\n',\n",
       " '      0.98898351   1.0293073e-06\\n',\n",
       " '      0.98893740   1.0454904e-06\\n',\n",
       " '      0.98889112   1.0620986e-06\\n',\n",
       " '      0.98884468   1.0791533e-06\\n',\n",
       " '      0.98879806   1.0966770e-06\\n',\n",
       " '      0.98875128   1.1147043e-06\\n',\n",
       " '      0.98870432   1.1332642e-06\\n',\n",
       " '      0.98865720   1.1523866e-06\\n',\n",
       " '      0.98860990   1.1720990e-06\\n',\n",
       " '      0.98856242   1.1924249e-06\\n',\n",
       " '      0.98851477   1.2134011e-06\\n',\n",
       " '      0.98846694   1.2350673e-06\\n',\n",
       " '      0.98841893   1.2574653e-06\\n',\n",
       " '      0.98837074   1.2806348e-06\\n',\n",
       " '      0.98832237   1.3046059e-06\\n',\n",
       " '      0.98827381   1.3294186e-06\\n',\n",
       " '      0.98822507   1.3551141e-06\\n',\n",
       " '      0.98817615   1.3817245e-06\\n',\n",
       " '      0.98812703   1.4095309e-06\\n',\n",
       " '      0.98807773   1.4380089e-06\\n',\n",
       " '      0.98802823   1.4673031e-06\\n',\n",
       " '      0.98797854   1.4977494e-06\\n',\n",
       " '      0.98792865   1.5292305e-06\\n',\n",
       " '      0.98787857   1.5616921e-06\\n',\n",
       " '      0.98782829   1.5950907e-06\\n',\n",
       " '      0.98777781   1.6293937e-06\\n',\n",
       " '      0.98772713   1.6645682e-06\\n',\n",
       " '      0.98767624   1.7005778e-06\\n',\n",
       " '      0.98762515   1.7373736e-06\\n',\n",
       " '      0.98757386   1.7749071e-06\\n',\n",
       " '      0.98752235   1.8131256e-06\\n',\n",
       " '      0.98747063   1.8519678e-06\\n',\n",
       " '      0.98741870   1.8913518e-06\\n',\n",
       " '      0.98736655   1.9311796e-06\\n',\n",
       " '      0.98731418   1.9713528e-06\\n',\n",
       " '      0.98726160   2.0117246e-06\\n',\n",
       " '      0.98720880   2.0519818e-06\\n',\n",
       " '      0.98715577   2.0917988e-06\\n',\n",
       " '      0.98710251   2.1314892e-06\\n',\n",
       " '      0.98704903   2.1713976e-06\\n',\n",
       " '      0.98699533   2.2118559e-06\\n',\n",
       " '      0.98694139   2.2532202e-06\\n',\n",
       " '      0.98688721   2.2957281e-06\\n',\n",
       " '      0.98683280   2.3383056e-06\\n',\n",
       " '      0.98677816   2.3808122e-06\\n',\n",
       " '      0.98672327   2.4233292e-06\\n',\n",
       " '      0.98666815   2.4658954e-06\\n',\n",
       " '      0.98661277   2.5085578e-06\\n',\n",
       " '      0.98655716   2.5513551e-06\\n',\n",
       " '      0.98650129   2.5943222e-06\\n',\n",
       " '      0.98644517   2.6374923e-06\\n',\n",
       " '      0.98638880   2.6808987e-06\\n',\n",
       " '      0.98633217   2.7245754e-06\\n',\n",
       " '      0.98627529   2.7685414e-06\\n',\n",
       " '      0.98621814   2.8127931e-06\\n',\n",
       " '      0.98616073   2.8573622e-06\\n',\n",
       " '      0.98610305   2.9022837e-06\\n',\n",
       " '      0.98604511   2.9475948e-06\\n',\n",
       " '      0.98598690   2.9933353e-06\\n',\n",
       " '      0.98592841   3.0395475e-06\\n',\n",
       " '      0.98586965   3.0862767e-06\\n',\n",
       " '      0.98581061   3.1335392e-06\\n',\n",
       " '      0.98575128   3.1813491e-06\\n',\n",
       " '      0.98569168   3.2297620e-06\\n',\n",
       " '      0.98563178   3.2788389e-06\\n',\n",
       " '      0.98557160   3.3286469e-06\\n',\n",
       " '      0.98551113   3.3792596e-06\\n',\n",
       " '      0.98545036   3.4307579e-06\\n',\n",
       " '      0.98538930   3.4832572e-06\\n',\n",
       " '      0.98532793   3.5369667e-06\\n',\n",
       " '      0.98526627   3.5917966e-06\\n',\n",
       " '      0.98520430   3.6476324e-06\\n',\n",
       " '      0.98514203   3.7043765e-06\\n',\n",
       " '      0.98507944   3.7619372e-06\\n',\n",
       " '      0.98501654   3.8202206e-06\\n',\n",
       " '      0.98495333   3.8791204e-06\\n',\n",
       " '      0.98488980   3.9384598e-06\\n',\n",
       " '      0.98482594   3.9980477e-06\\n',\n",
       " '      0.98476177   4.0577611e-06\\n',\n",
       " '      0.98469727   4.1183714e-06\\n',\n",
       " '      0.98463244   4.1800420e-06\\n',\n",
       " '      0.98456728   4.2427199e-06\\n',\n",
       " '      0.98450178   4.3063668e-06\\n',\n",
       " '      0.98443595   4.3708987e-06\\n',\n",
       " '      0.98436977   4.4362697e-06\\n',\n",
       " '      0.98430326   4.5024650e-06\\n',\n",
       " '      0.98423639   4.5694730e-06\\n',\n",
       " '      0.98416918   4.6372837e-06\\n',\n",
       " '      0.98410162   4.7058883e-06\\n',\n",
       " '      0.98403371   4.7752683e-06\\n',\n",
       " '      0.98396544   4.8453341e-06\\n',\n",
       " '      0.98389681   4.9160583e-06\\n',\n",
       " '      0.98382782   4.9874330e-06\\n',\n",
       " '      0.98375846   5.0594548e-06\\n',\n",
       " '      0.98368874   5.1321259e-06\\n',\n",
       " '      0.98361865   5.2054562e-06\\n',\n",
       " '      0.98354819   5.2789836e-06\\n',\n",
       " '      0.98347736   5.3522052e-06\\n',\n",
       " '      0.98340615   5.4254134e-06\\n',\n",
       " '      0.98333456   5.4988515e-06\\n',\n",
       " '      0.98326260   5.5727314e-06\\n',\n",
       " '      0.98319025   5.6472301e-06\\n',\n",
       " '      0.98311752   5.7225141e-06\\n',\n",
       " '      0.98304440   5.7986556e-06\\n',\n",
       " '      0.98297089   5.8758489e-06\\n',\n",
       " '      0.98289699   5.9543425e-06\\n',\n",
       " '      0.98282270   6.0344425e-06\\n',\n",
       " '      0.98274801   6.1165466e-06\\n',\n",
       " '      0.98267293   6.2009641e-06\\n',\n",
       " '      0.98259744   6.2854923e-06\\n',\n",
       " '      0.98252156   6.3698446e-06\\n',\n",
       " '      0.98244527   6.4544407e-06\\n',\n",
       " '      0.98236858   6.5396229e-06\\n',\n",
       " '      0.98229148   6.6256927e-06\\n',\n",
       " '      0.98221397   6.7129296e-06\\n',\n",
       " '      0.98213604   6.8015300e-06\\n',\n",
       " '      0.98205771   6.8917505e-06\\n',\n",
       " '      0.98197896   6.9839124e-06\\n',\n",
       " '      0.98189979   7.0784105e-06\\n',\n",
       " '      0.98182021   7.1757626e-06\\n',\n",
       " '      0.98174020   7.2764988e-06\\n',\n",
       " '      0.98165977   7.3799460e-06\\n',\n",
       " '      0.98157891   7.4857804e-06\\n',\n",
       " '      0.98149762   7.5939021e-06\\n',\n",
       " '      0.98141591   7.7042606e-06\\n',\n",
       " '      0.98133376   7.8168334e-06\\n',\n",
       " '      0.98125118   7.9315369e-06\\n',\n",
       " '      0.98116817   8.0481776e-06\\n',\n",
       " '      0.98108472   8.1666659e-06\\n',\n",
       " '      0.98100084   8.2869016e-06\\n',\n",
       " '      0.98091652   8.4087599e-06\\n',\n",
       " '      0.98083176   8.5320662e-06\\n',\n",
       " '      0.98074657   8.6564422e-06\\n',\n",
       " '      0.98066093   8.7814979e-06\\n',\n",
       " '      0.98057485   8.9070759e-06\\n',\n",
       " '      0.98048833   9.0350810e-06\\n',\n",
       " '      0.98040136   9.1657461e-06\\n',\n",
       " '      0.98031396   9.2989283e-06\\n',\n",
       " '      0.98022611   9.4344183e-06\\n',\n",
       " '      0.98013781   9.5720965e-06\\n',\n",
       " '      0.98004908   9.7118720e-06\\n',\n",
       " '      0.97995990   9.8536847e-06\\n',\n",
       " '      0.97987027   9.9971643e-06\\n',\n",
       " '      0.97978020   1.0141063e-05\\n',\n",
       " '      0.97968969   1.0285609e-05\\n',\n",
       " '      0.97959873   1.0431114e-05\\n',\n",
       " '      0.97950732   1.0577833e-05\\n',\n",
       " '      0.97941546   1.0725984e-05\\n',\n",
       " '      0.97932315   1.0875760e-05\\n',\n",
       " '      0.97923040   1.1027337e-05\\n',\n",
       " '      0.97913719   1.1180879e-05\\n',\n",
       " '      0.97904354   1.1336546e-05\\n',\n",
       " '      0.97894943   1.1494493e-05\\n',\n",
       " '      0.97885487   1.1654867e-05\\n',\n",
       " '      0.97875985   1.1817813e-05\\n',\n",
       " '      0.97866439   1.1983477e-05\\n',\n",
       " '      0.97856846   1.2152015e-05\\n',\n",
       " '      0.97847208   1.2323585e-05\\n',\n",
       " '      0.97837525   1.2498356e-05\\n',\n",
       " '      0.97827795   1.2676504e-05\\n',\n",
       " '      0.97818020   1.2858219e-05\\n',\n",
       " '      0.97808198   1.3043700e-05\\n',\n",
       " '      0.97798330   1.3233161e-05\\n',\n",
       " '      0.97788417   1.3426804e-05\\n',\n",
       " '      0.97778456   1.3624837e-05\\n',\n",
       " '      0.97768450   1.3827520e-05\\n',\n",
       " '      0.97758397   1.4035195e-05\\n',\n",
       " '      0.97748298   1.4248170e-05\\n',\n",
       " '      0.97738152   1.4466789e-05\\n',\n",
       " '      0.97727959   1.4691451e-05\\n',\n",
       " '      0.97717720   1.4922633e-05\\n',\n",
       " '      0.97707434   1.5160962e-05\\n',\n",
       " '      0.97697101   1.5407348e-05\\n',\n",
       " '      0.97686721   1.5662668e-05\\n',\n",
       " '      0.97676295   1.5922396e-05\\n',\n",
       " '      0.97665821   1.6185361e-05\\n',\n",
       " '      0.97655301   1.6452830e-05\\n',\n",
       " '      0.97644733   1.6726147e-05\\n',\n",
       " '      0.97634119   1.7006843e-05\\n',\n",
       " '      0.97623457   1.7296801e-05\\n',\n",
       " '      0.97612748   1.7597566e-05\\n',\n",
       " '      0.97601991   1.7908097e-05\\n',\n",
       " '      0.97591188   1.8228432e-05\\n',\n",
       " '      0.97580336   1.8558754e-05\\n',\n",
       " '      0.97569438   1.8899269e-05\\n',\n",
       " '      0.97558492   1.9250196e-05\\n',\n",
       " '      0.97547498   1.9611762e-05\\n',\n",
       " '      0.97536457   1.9984202e-05\\n',\n",
       " '      0.97525368   2.0367752e-05\\n',\n",
       " '      0.97514231   2.0762654e-05\\n',\n",
       " '      0.97503046   2.1169150e-05\\n',\n",
       " '      0.97491813   2.1587482e-05\\n',\n",
       " '      0.97480531   2.2017905e-05\\n',\n",
       " '      0.97469201   2.2461138e-05\\n',\n",
       " '      0.97457822   2.2917745e-05\\n',\n",
       " '      0.97446393   2.3388077e-05\\n',\n",
       " '      0.97434916   2.3872488e-05\\n',\n",
       " '      0.97423390   2.4371338e-05\\n',\n",
       " '      0.97411815   2.4884991e-05\\n',\n",
       " '      0.97400190   2.5413813e-05\\n',\n",
       " '      0.97388516   2.5958174e-05\\n',\n",
       " '      0.97376792   2.6518448e-05\\n',\n",
       " '      0.97365018   2.7095008e-05\\n',\n",
       " '      0.97353194   2.7688230e-05\\n',\n",
       " '      0.97341318   2.8298547e-05\\n',\n",
       " '      0.97329393   2.8926842e-05\\n',\n",
       " '      0.97317416   2.9573709e-05\\n',\n",
       " '      0.97305388   3.0239647e-05\\n',\n",
       " '      0.97293309   3.0925007e-05\\n',\n",
       " '      0.97281178   3.1630228e-05\\n',\n",
       " '      0.97268995   3.2355828e-05\\n',\n",
       " '      0.97256760   3.3102332e-05\\n',\n",
       " '      0.97244473   3.3870271e-05\\n',\n",
       " '      0.97232133   3.4660184e-05\\n',\n",
       " '      0.97219741   3.5472617e-05\\n',\n",
       " '      0.97207295   3.6308140e-05\\n',\n",
       " '      0.97194795   3.7167605e-05\\n',\n",
       " '      0.97182242   3.8051748e-05\\n',\n",
       " '      0.97169635   3.8961251e-05\\n',\n",
       " '      0.97156974   3.9896800e-05\\n',\n",
       " '      0.97144259   4.0859083e-05\\n',\n",
       " '      0.97131488   4.1848784e-05\\n',\n",
       " '      0.97118663   4.2866567e-05\\n',\n",
       " '      0.97105782   4.3913053e-05\\n',\n",
       " '      0.97092846   4.4988773e-05\\n',\n",
       " '      0.97079854   4.6094062e-05\\n',\n",
       " '      0.97066806   4.7231868e-05\\n',\n",
       " '      0.97053701   4.8405801e-05\\n',\n",
       " '      0.97040540   4.9614764e-05\\n',\n",
       " '      0.97027322   5.0857979e-05\\n',\n",
       " '      0.97014047   5.2134894e-05\\n',\n",
       " '      0.97000714   5.3445083e-05\\n',\n",
       " '      0.96987324   5.4788351e-05\\n',\n",
       " '      0.96973876   5.6164568e-05\\n',\n",
       " '      0.96960371   5.7573641e-05\\n',\n",
       " '      0.96946807   5.9022373e-05\\n',\n",
       " '      0.96933184   6.0514219e-05\\n',\n",
       " '      0.96919503   6.2049899e-05\\n',\n",
       " '      0.96905763   6.3630291e-05\\n',\n",
       " '      0.96891964   6.5256382e-05\\n',\n",
       " '      0.96878106   6.6929234e-05\\n',\n",
       " '      0.96864187   6.8649965e-05\\n',\n",
       " '      0.96850209   7.0419792e-05\\n',\n",
       " '      0.96836170   7.2240157e-05\\n',\n",
       " '      0.96822071   7.4112389e-05\\n',\n",
       " '      0.96807911   7.6037830e-05\\n',\n",
       " '      0.96793690   7.8017853e-05\\n',\n",
       " '      0.96779407   8.0053859e-05\\n',\n",
       " '      0.96765064   8.2147275e-05\\n',\n",
       " '      0.96750658   8.4299550e-05\\n',\n",
       " '      0.96736191   8.6512157e-05\\n',\n",
       " '      0.96721661   8.8786587e-05\\n',\n",
       " '      0.96707069   9.1124346e-05\\n',\n",
       " '      0.96692413   9.3526956e-05\\n',\n",
       " '      0.96677695   9.5995953e-05\\n',\n",
       " '      0.96662913   9.8532880e-05\\n',\n",
       " '      0.96648067   0.00010113929\\n',\n",
       " '      0.96633157   0.00010381681\\n',\n",
       " '      0.96618182   0.00010656745\\n',\n",
       " '      0.96603142   0.00010939295\\n',\n",
       " '      0.96588037   0.00011229505\\n',\n",
       " '      0.96572867   0.00011527552\\n',\n",
       " '      0.96557631   0.00011833612\\n',\n",
       " '      0.96542328   0.00012147860\\n',\n",
       " '      0.96526959   0.00012470474\\n',\n",
       " '      0.96511523   0.00012801630\\n',\n",
       " '      0.96496021   0.00013141502\\n',\n",
       " '      0.96480450   0.00013490265\\n',\n",
       " '      0.96464812   0.00013848090\\n',\n",
       " '      0.96449105   0.00014215143\\n',\n",
       " '      0.96433329   0.00014591589\\n',\n",
       " '      0.96417484   0.00014977575\\n',\n",
       " '      0.96401570   0.00015373232\\n',\n",
       " '      0.96385586   0.00015778724\\n',\n",
       " '      0.96369531   0.00016194211\\n',\n",
       " '      0.96353405   0.00016619847\\n',\n",
       " '      0.96337208   0.00017055770\\n',\n",
       " '      0.96320940   0.00017502109\\n',\n",
       " '      0.96304599   0.00017958971\\n',\n",
       " '      0.96288187   0.00018426443\\n',\n",
       " '      0.96271701   0.00018904580\\n',\n",
       " '      0.96255143   0.00019393400\\n',\n",
       " '      0.96238511   0.00019892873\\n',\n",
       " '      0.96221805   0.00020402906\\n',\n",
       " '      0.96205025   0.00020923667\\n',\n",
       " '      0.96188171   0.00021456182\\n',\n",
       " '      0.96171241   0.00022000830\\n',\n",
       " '      0.96154236   0.00022557938\\n',\n",
       " '      0.96137155   0.00023127838\\n',\n",
       " '      0.96119997   0.00023710870\\n',\n",
       " '      0.96102763   0.00024307381\\n',\n",
       " '      0.96085452   0.00024917730\\n',\n",
       " '      0.96068064   0.00025542288\\n',\n",
       " '      0.96050597   0.00026181439\\n',\n",
       " '      0.96033053   0.00026835582\\n',\n",
       " '      0.96015431   0.00027505130\\n',\n",
       " '      0.95997730   0.00028190466\\n',\n",
       " '      0.95979950   0.00028891707\\n',\n",
       " '      0.95962091   0.00029609180\\n',\n",
       " '      0.95944153   0.00030343261\\n',\n",
       " '      0.95926135   0.00031094337\\n',\n",
       " '      0.95908036   0.00031862806\\n',\n",
       " '      0.95889857   0.00032649078\\n',\n",
       " '      0.95871597   0.00033453585\\n',\n",
       " '      0.95853257   0.00034276832\\n',\n",
       " '      0.95834834   0.00035119292\\n',\n",
       " '      0.95816331   0.00035981440\\n',\n",
       " '      0.95797745   0.00036863771\\n',\n",
       " '      0.95779076   0.00037766689\\n',\n",
       " '      0.95760326   0.00038690616\\n',\n",
       " '      0.95741492   0.00039636085\\n',\n",
       " '      0.95722574   0.00040603159\\n',\n",
       " '      0.95703574   0.00041590624\\n',\n",
       " '      0.95684489   0.00042598924\\n',\n",
       " '      0.95665320   0.00043628663\\n',\n",
       " '      0.95646066   0.00044680449\\n',\n",
       " ...]"
      ]
     },
     "execution_count": 35,
     "metadata": {},
     "output_type": "execute_result"
    }
   ],
   "source": [
    "# read in alternative F_rad from Jorgen\n",
    "f = open(\"Model_S_Frad.txt\", \"r\")\n",
    "lines_frad = f.readlines()\n",
    "f.close()\n",
    "lines_frad"
   ]
  },
  {
   "cell_type": "code",
   "execution_count": 36,
   "id": "132138c5",
   "metadata": {},
   "outputs": [],
   "source": [
    "rr2 = []\n",
    "frad2 = []\n",
    "for line in lines_frad[1:]:\n",
    "    st = line.split()\n",
    "    rr2.append(float(st[0]))\n",
    "    frad2.append(float(st[1]))\n",
    "    \n",
    "rr2 = np.array(rr2)\n",
    "frad2 = np.array(frad2)"
   ]
  },
  {
   "cell_type": "code",
   "execution_count": 37,
   "id": "3d61ba54",
   "metadata": {},
   "outputs": [
    {
     "data": {
      "text/plain": [
       "<matplotlib.legend.Legend at 0x7fc38119e230>"
      ]
     },
     "execution_count": 37,
     "metadata": {},
     "output_type": "execute_result"
    },
    {
     "data": {
      "image/png": "[encoded data removed]",
      "text/plain": [
       "<Figure size 640x480 with 1 Axes>"
      ]
     },
     "metadata": {},
     "output_type": "display_data"
    }
   ],
   "source": [
    "# check that my value and Jorgen's line up\n",
    "plt.plot(di.rr/di.rsun, di.frad/di.lsun, 'k', label='My L_rad/L_sun')\n",
    "plt.plot(rr2, frad2, 'r--', label='Jorgen L_rad/L_sun')\n",
    "\n",
    "plt.ylim(0,1.2)\n",
    "plt.legend()"
   ]
  },
  {
   "cell_type": "code",
   "execution_count": 38,
   "id": "0a0006cd",
   "metadata": {},
   "outputs": [],
   "source": [
    "# this must be because I divided by the constant L_sun, not L(r)\n",
    "# anyway, I think everything works"
   ]
  },
  {
   "cell_type": "code",
   "execution_count": 39,
   "id": "11c0de92",
   "metadata": {},
   "outputs": [
    {
     "data": {
      "text/plain": [
       "(0.0, 35.0)"
      ]
     },
     "execution_count": 39,
     "metadata": {},
     "output_type": "execute_result"
    },
    {
     "data": {
      "image/png": "[encoded data removed]",
      "text/plain": [
       "<Figure size 640x480 with 1 Axes>"
      ]
     },
     "metadata": {},
     "output_type": "display_data"
    }
   ],
   "source": [
    "# also compute a volumetric heating\n",
    "floc = di.frad/4/np.pi/di.rr**2\n",
    "di.heat = - (np.gradient(floc, di.rr) + (2/di.rr)*floc)\n",
    "plt.plot(di.rr, di.heat)\n",
    "plt.plot(di.rbcz + np.zeros(100), np.linspace(0,35, 100))\n",
    "plt.ylim(0,35)"
   ]
  },
  {
   "cell_type": "code",
   "execution_count": 40,
   "id": "49bd18b7",
   "metadata": {},
   "outputs": [
    {
     "name": "stdout",
     "output_type": "stream",
     "text": [
      "0.6932555555555555\n",
      "0.04724444444444444\n",
      "0.6696392773455656\n",
      "0.7169675873528123\n"
     ]
    }
   ],
   "source": [
    "# last thing... take Howe 2009, p. 32, Table 2 and get location and width of tachocline\n",
    "di.rtach = di.rsun*np.mean(np.array([0.692, 0.68, 0.705, 0.6947, 0.695, 0.691, 0.693, 0.697, 0.6916]))\n",
    "di.dtach = di.rsun*np.mean(np.array([0.09, 0.12, 0.0480, 0.033, 0.05, 0.01, 0.039, 0.019, 0.0162]))\n",
    "\n",
    "# get indices associated with tachocline centroid (0) and upper and lower locations\n",
    "r1, r2 = di.rtach - di.dtach/2, di.rtach + di.dtach/2\n",
    "di.irtach = np.argmin(np.abs(di.rr - di.rtach))\n",
    "di.irtach1 = np.argmin(np.abs(di.rr - r1))\n",
    "di.irtach2 = np.argmin(np.abs(di.rr - r2))\n",
    "di.rtach1 = di.rr[di.irtach1]\n",
    "di.rtach2 = di.rr[di.irtach2]\n",
    "            \n",
    "print(di.rtach/di.rsun)\n",
    "print(di.dtach/di.rsun)\n",
    "\n",
    "print(di.rtach1/di.rsun)\n",
    "print(di.rtach2/di.rsun)"
   ]
  },
  {
   "cell_type": "code",
   "execution_count": 41,
   "id": "6eb215a8",
   "metadata": {},
   "outputs": [
    {
     "data": {
      "text/plain": [
       "array([6.96486560e+10, 6.96481085e+10, 6.96475567e+10, ...,\n",
       "       5.81765728e+08, 5.77113851e+08, 1.00000000e-49])"
      ]
     },
     "execution_count": 41,
     "metadata": {},
     "output_type": "execute_result"
    }
   ],
   "source": [
    "di.rr"
   ]
  },
  {
   "cell_type": "code",
   "execution_count": 42,
   "id": "21adcfdc",
   "metadata": {},
   "outputs": [
    {
     "name": "stdout",
     "output_type": "stream",
     "text": [
      "16.772863191116034 449.4012583780707\n"
     ]
    }
   ],
   "source": [
    "# compute r_eta coordinate\n",
    "# look at eta at top and bottom of RZ\n",
    "print(di.eta[-1],di.eta[di.irbcz]) # verify Pascale (1999)'s quoted values...pretty good"
   ]
  },
  {
   "cell_type": "code",
   "execution_count": 43,
   "id": "500a79bd",
   "metadata": {},
   "outputs": [
    {
     "name": "stdout",
     "output_type": "stream",
     "text": [
      "eta_const: 66.46942480163796\n",
      "r_etaconst/rbcz 0.41098522563775813\n"
     ]
    },
    {
     "data": {
      "image/png": "[encoded data removed]",
      "text/plain": [
       "<Figure size 640x480 with 1 Axes>"
      ]
     },
     "metadata": {},
     "output_type": "display_data"
    }
   ],
   "source": [
    "di.rrrz = di.rr[di.irbcz:] # radius in RZ\n",
    "di.nr = len(di.rr)\n",
    "di.nrrz = len(di.rrrz)\n",
    "integrand = 1./np.sqrt(di.eta[di.irbcz:])\n",
    "di.reta = np.zeros(di.nrrz)\n",
    "for ir in range(di.nrrz):\n",
    "    di.reta[ir] = -simpson(integrand[ir:], x=di.rrrz[ir:])\n",
    "di.etaconst = (di.rbcz/di.reta[0])**2\n",
    "di.reta *= di.rbcz/di.reta[0] # normalize by top value (full integral)\n",
    "\n",
    "di.iretaconst = np.argmin(np.abs(di.eta - di.etaconst))\n",
    "di.retaconst = di.rr[di.iretaconst]\n",
    "\n",
    "plt.figure()\n",
    "plt.plot(di.rrrz, di.reta)\n",
    "print(\"eta_const:\", di.etaconst)\n",
    "print(\"r_etaconst/rbcz\", di.retaconst/di.rbcz)"
   ]
  },
  {
   "cell_type": "code",
   "execution_count": 44,
   "id": "2319c220",
   "metadata": {},
   "outputs": [],
   "source": [
    "#help(simpson)"
   ]
  },
  {
   "cell_type": "code",
   "execution_count": 45,
   "id": "4e2d0465",
   "metadata": {},
   "outputs": [
    {
     "data": {
      "text/plain": [
       "2482"
      ]
     },
     "execution_count": 45,
     "metadata": {},
     "output_type": "execute_result"
    }
   ],
   "source": [
    "di.nr"
   ]
  },
  {
   "cell_type": "code",
   "execution_count": 46,
   "id": "4ae7233f",
   "metadata": {},
   "outputs": [
    {
     "data": {
      "text/plain": [
       "1439"
      ]
     },
     "execution_count": 46,
     "metadata": {},
     "output_type": "execute_result"
    }
   ],
   "source": [
    "di.irbcz"
   ]
  },
  {
   "cell_type": "code",
   "execution_count": 47,
   "id": "cde740db",
   "metadata": {},
   "outputs": [
    {
     "data": {
      "text/plain": [
       "dict_keys(['msun', 'rsun', 'lsun', 'zsun', 'x0sun', 'alphasun', 'agesun', 'rr', 'lnq', 'grav', 'tmp', 'prs', 'rho', 'xfrac', 'lum', 'opa', 'eps', 'gamma', 'gamma_ad', 'delta', 'c_p', 'mue', 'Ne', 'ne', 'dsdr', 'nsq', 'zfrac', 'drhodr', 'dtmpdr', 'dprsdr', 'dlnrho', 'dlntmp', 'dlnprs', 'gas_constant', 'ircut', 'rcut', 'irbcz', 'rbcz', 'r0', 'ir0', 'lnlambda', 'nu_i', 'nu_r', 'nu', 'kappa', 'eta', 'prm', 'pr', 'sigma', 'frad', 'heat', 'rtach', 'dtach', 'irtach', 'irtach1', 'irtach2', 'rtach1', 'rtach2', 'rrrz', 'nr', 'nrrz', 'reta', 'etaconst', 'iretaconst', 'retaconst'])"
      ]
     },
     "execution_count": 47,
     "metadata": {},
     "output_type": "execute_result"
    }
   ],
   "source": [
    "di.keys()"
   ]
  },
  {
   "cell_type": "code",
   "execution_count": 48,
   "id": "494d2a12",
   "metadata": {},
   "outputs": [],
   "source": [
    "# OK, convert everything to binary\n",
    "f = open(\"Model_S.pkl\", \"wb\")\n",
    "pickle.dump(di.copy(), f, protocol=4)\n",
    "f.close()"
   ]
  },
  {
   "cell_type": "code",
   "execution_count": null,
   "id": "86969450",
   "metadata": {},
   "outputs": [],
   "source": []
  },
  {
   "cell_type": "code",
   "execution_count": null,
   "id": "1732506a-cc43-480d-b4e2-371563e69f65",
   "metadata": {},
   "outputs": [],
   "source": []
  }
 ],
 "metadata": {
  "kernelspec": {
   "display_name": "Python 3 (ipykernel)",
   "language": "python",
   "name": "python3"
  },
  "language_info": {
   "codemirror_mode": {
    "name": "ipython",
    "version": 3
   },
   "file_extension": ".py",
   "mimetype": "text/x-python",
   "name": "python",
   "nbconvert_exporter": "python",
   "pygments_lexer": "ipython3",
   "version": "3.10.14"
  }
 },
 "nbformat": 4,
 "nbformat_minor": 5
}
