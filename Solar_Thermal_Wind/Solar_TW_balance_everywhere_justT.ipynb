{
 "cells": [
  {
   "cell_type": "code",
   "execution_count": 1,
   "metadata": {},
   "outputs": [],
   "source": [
    "import numpy as np\n",
    "import pickle\n",
    "import matplotlib as mpl\n",
    "mpl.use('TkAgg')\n",
    "sys.path.append(os.environ['rapp'])\n",
    "sys.path.append(os.environ['raco'])\n",
    "import matplotlib.pyplot as plt\n",
    "plt.rcParams['mathtext.fontset'] = 'dejavuserif'\n",
    "csfont = {'fontname':'DejaVu Serif'}\n",
    "ticklabelsize = 6\n",
    "plt.rcParams['xtick.labelsize'] = ticklabelsize\n",
    "plt.rcParams['ytick.labelsize'] = ticklabelsize\n",
    "%matplotlib inline\n",
    "import sys, os\n",
    "from azav_util import plot_azav\n",
    "from common import get_widest_range_file, strip_dirname, get_dict, rms\n",
    "from derivs import drad, dth\n",
    "from get_parameter import get_parameter"
   ]
  },
  {
   "cell_type": "code",
   "execution_count": 2,
   "metadata": {},
   "outputs": [],
   "source": [
    "# Make function to flip array with AZ array with either even or odd symmetry\n",
    "def symmetrize_field(field, sym):\n",
    "    nt, nr = np.shape(field)\n",
    "    new_field = np.copy(field)\n",
    "    # \"Fold\" the field in half\n",
    "       \n",
    "    # Field is ordered from theta=pi (south pole) to theta=0 (north pole)\n",
    "    # Average the Northern and Southern hemispheres together (must flip \n",
    "    # the Southern hemisphere with respect to latitude, then add or subtract it\n",
    "    if sym=='even':\n",
    "        new_field = 0.5*(new_field + np.flip(new_field, axis=0))\n",
    "    elif sym=='odd':\n",
    "        new_field = 0.5*(new_field - np.flip(new_field, axis=0))\n",
    "  \n",
    "    return new_field"
   ]
  },
  {
   "cell_type": "code",
   "execution_count": 3,
   "metadata": {},
   "outputs": [],
   "source": [
    "# Get Rachel's solar data\n",
    "di = get_dict('/mizar/loma3853/fixedflux/paperplots/gongdata/avgong.pkl')\n",
    "Om = di['om']*1e-9*(2*np.pi) # nHz --> rad/s\n",
    "rsun = 6.957e10\n",
    "rr = di['rr']*rsun\n",
    "tt = di['tt']\n",
    "cost_2d = di['cost_2d']\n",
    "sint_2d = di['sint_2d']\n",
    "rr_2d = di['rr_2d']*rsun\n",
    "cost = np.cos(tt)\n",
    "sint = np.sin(tt)"
   ]
  },
  {
   "cell_type": "code",
   "execution_count": 4,
   "metadata": {
    "scrolled": true
   },
   "outputs": [
    {
     "name": "stdout",
     "output_type": "stream",
     "text": [
      "[6.96193947e+10 6.96020022e+10 6.95832183e+10 6.95603298e+10\n",
      " 6.95294407e+10 6.94894379e+10 6.94397650e+10 6.93787521e+10\n",
      " 6.93034078e+10 6.92087926e+10 6.90872538e+10 6.89275210e+10\n",
      " 6.87120628e+10 6.84282867e+10 6.80789062e+10 6.76584251e+10\n",
      " 6.71572428e+10 6.65714634e+10 6.58996955e+10 6.51402694e+10\n",
      " 6.42911675e+10 6.33503029e+10 6.23150317e+10 6.11827799e+10\n",
      " 5.99502082e+10 5.86137686e+10 5.71694258e+10 5.56124492e+10\n",
      " 5.39370644e+10 5.21369407e+10 5.02045644e+10 4.81366657e+10\n",
      " 4.59567593e+10 4.36766721e+10 4.12993261e+10 3.88242342e+10\n",
      " 3.62477788e+10 3.35640465e+10 3.07658715e+10 2.78460882e+10\n",
      " 2.48004527e+10 2.16318175e+10 1.83538183e+10 1.50028401e+10\n",
      " 1.16941604e+10 8.69896323e+09 6.25519871e+09 4.31282518e+09\n",
      " 2.70508335e+09 1.29888581e+09 0.00000000e+00]\n",
      "51\n"
     ]
    }
   ],
   "source": [
    "print(rr)\n",
    "print(len(rr))"
   ]
  },
  {
   "cell_type": "code",
   "execution_count": 5,
   "metadata": {},
   "outputs": [
    {
     "name": "stdout",
     "output_type": "stream",
     "text": [
      "[6.96193947e+10 6.96020022e+10 6.95832183e+10 6.95603298e+10\n",
      " 6.95294407e+10 6.94894379e+10 6.94397650e+10 6.93787521e+10\n",
      " 6.93034078e+10 6.92087926e+10 6.90872538e+10 6.89275210e+10\n",
      " 6.87120628e+10 6.84282867e+10 6.80789062e+10 6.76584251e+10\n",
      " 6.71572428e+10 6.65714634e+10 6.58996955e+10 6.51402694e+10\n",
      " 6.42911675e+10 6.33503029e+10 6.23150317e+10 6.11827799e+10\n",
      " 5.99502082e+10 5.86137686e+10 5.71694258e+10 5.56124492e+10\n",
      " 5.39370644e+10 5.21369407e+10 5.02045644e+10 4.81366657e+10\n",
      " 4.59567593e+10 4.36766721e+10 4.12993261e+10 3.88242342e+10\n",
      " 3.62477788e+10]\n",
      "37\n"
     ]
    }
   ],
   "source": [
    "# Let's remove the r-values lower than some value\n",
    "ircut = np.argmin(np.abs(rr - 3.4e10))\n",
    "rr = rr[:ircut]\n",
    "cost_2d = cost_2d[:, :ircut]\n",
    "sint_2d = sint_2d[:, :ircut]\n",
    "rr_2d = rr_2d[:, :ircut]\n",
    "Om = Om[:, :ircut]\n",
    "print(rr)\n",
    "print(len(rr))"
   ]
  },
  {
   "cell_type": "code",
   "execution_count": 6,
   "metadata": {},
   "outputs": [],
   "source": [
    "# And the r-values over 6.93e10 (note that at 6.94e10, my quartic CZ-RZ reference state gives nans...)\n",
    "#ircut = np.argmin(np.abs(rr - 6.93e10))\n",
    "#rr = rr[ircut+1:]\n",
    "#cost_2d = cost_2d[:, ircut+1:]\n",
    "#sint_2d = sint_2d[:, ircut+1:]\n",
    "#rr_2d = rr_2d[:, ircut+1:]\n",
    "#Om = Om[:, ircut+1:]\n",
    "#nr = len(rr)\n",
    "#rr"
   ]
  },
  {
   "cell_type": "code",
   "execution_count": 7,
   "metadata": {},
   "outputs": [],
   "source": [
    "dOmdr = drad(Om, rr)\n",
    "dOmdt = dth(Om, tt)\n",
    "dOmdz = cost_2d*dOmdr - sint_2d*dOmdt/rr_2d\n",
    "dOmdl = sint_2d*dOmdr + cost_2d*dOmdt/rr_2d"
   ]
  },
  {
   "cell_type": "code",
   "execution_count": 8,
   "metadata": {},
   "outputs": [],
   "source": [
    "Om0 = 2.87e-6 # sideral Carrington"
   ]
  },
  {
   "cell_type": "code",
   "execution_count": 9,
   "metadata": {
    "scrolled": true
   },
   "outputs": [
    {
     "name": "stdout",
     "output_type": "stream",
     "text": [
      "get_eq(.): got equation coefficients from 'custom_reference_binary' file\n"
     ]
    },
    {
     "data": {
      "text/plain": [
       "nan"
      ]
     },
     "execution_count": 9,
     "metadata": {},
     "output_type": "execute_result"
    }
   ],
   "source": [
    "# Use a standard custom reference state (will be wrong below CZ) to get radial profiles of\n",
    "# rhobar and g for Rachel's data\n",
    "from get_eq import get_eq\n",
    "eq = get_eq('.', fname='custom_reference_binary')\n",
    "rr_ref = eq.radius\n",
    "rho_ref = eq.density\n",
    "g_ref = eq.gravity\n",
    "np.min(rho_ref) # check this is just super low (not nan)"
   ]
  },
  {
   "cell_type": "code",
   "execution_count": 10,
   "metadata": {},
   "outputs": [
    {
     "name": "stdout",
     "output_type": "stream",
     "text": [
      "3.624777882\n",
      "6.96193947\n",
      "3.0\n",
      "6.97\n"
     ]
    }
   ],
   "source": [
    "print(np.min(rr/1e10))\n",
    "print(np.max(rr/1e10))\n",
    "print(np.min(rr_ref/1e10))\n",
    "print(np.max(rr_ref/1e10))"
   ]
  },
  {
   "cell_type": "code",
   "execution_count": 11,
   "metadata": {},
   "outputs": [],
   "source": [
    "from scipy.interpolate import interp1d\n",
    "# first interpolate density\n",
    "f = interp1d(rr_ref, rho_ref)\n",
    "rho = f(rr)\n",
    "\n",
    "# then interpolate gravity\n",
    "f = interp1d(rr_ref, g_ref)\n",
    "g = f(rr)\n",
    "\n"
   ]
  },
  {
   "cell_type": "code",
   "execution_count": 12,
   "metadata": {},
   "outputs": [
    {
     "data": {
      "text/plain": [
       "[<matplotlib.lines.Line2D at 0x7fe649f25f90>]"
      ]
     },
     "execution_count": 12,
     "metadata": {},
     "output_type": "execute_result"
    },
    {
     "data": {
      "image/png": "[encoded data removed]",
      "text/plain": [
       "<Figure size 432x288 with 1 Axes>"
      ]
     },
     "metadata": {
      "needs_background": "light"
     },
     "output_type": "display_data"
    }
   ],
   "source": [
    "# Plot the interpolation to make sure it worked\n",
    "plt.plot(rr_ref, rho_ref, 'k')\n",
    "plt.plot(rr, rho, 'r--')"
   ]
  },
  {
   "cell_type": "code",
   "execution_count": 13,
   "metadata": {},
   "outputs": [
    {
     "data": {
      "text/plain": [
       "[<matplotlib.lines.Line2D at 0x7fe649d53810>]"
      ]
     },
     "execution_count": 13,
     "metadata": {},
     "output_type": "execute_result"
    },
    {
     "data": {
      "image/png": "[encoded data removed]",
      "text/plain": [
       "<Figure size 432x288 with 1 Axes>"
      ]
     },
     "metadata": {
      "needs_background": "light"
     },
     "output_type": "display_data"
    }
   ],
   "source": [
    "plt.plot(rr_ref, g_ref, 'k')\n",
    "plt.plot(rr, g, 'r--')"
   ]
  },
  {
   "cell_type": "code",
   "execution_count": 14,
   "metadata": {},
   "outputs": [
    {
     "data": {
      "text/plain": [
       "array([           nan,            nan,            nan, ...,\n",
       "       1.42734055e+15, 1.42921614e+15, 1.43109453e+15])"
      ]
     },
     "execution_count": 14,
     "metadata": {},
     "output_type": "execute_result"
    }
   ],
   "source": [
    "eq.pressure"
   ]
  },
  {
   "cell_type": "code",
   "execution_count": 15,
   "metadata": {},
   "outputs": [
    {
     "data": {
      "text/plain": [
       "[<matplotlib.lines.Line2D at 0x7fe649cd5750>]"
      ]
     },
     "execution_count": 15,
     "metadata": {},
     "output_type": "execute_result"
    },
    {
     "data": {
      "image/png": "[encoded data removed]",
      "text/plain": [
       "<Figure size 432x288 with 1 Axes>"
      ]
     },
     "metadata": {
      "needs_background": "light"
     },
     "output_type": "display_data"
    }
   ],
   "source": [
    "# Sweet...also interpolate pressure and define c_P\n",
    "cp = 3.5e8\n",
    "prs_ref = eq.pressure\n",
    "f = interp1d(rr_ref, prs_ref)\n",
    "prs = f(rr)\n",
    "plt.plot(rr_ref, prs_ref, 'k')\n",
    "plt.plot(rr, prs, 'r--')"
   ]
  },
  {
   "cell_type": "code",
   "execution_count": 16,
   "metadata": {},
   "outputs": [
    {
     "name": "stdout",
     "output_type": "stream",
     "text": [
      "(49, 37)\n"
     ]
    }
   ],
   "source": [
    "# Solve thermal wind equations\n",
    "dPdt = (Om - Om0)*Om0*rho*(rr_2d**2)*(2*sint_2d*cost_2d)\n",
    "dSdt = 2*Om0*rr_2d**2*sint_2d*cp*dOmdz/g\n",
    "print(np.shape(dSdt))"
   ]
  },
  {
   "cell_type": "code",
   "execution_count": 17,
   "metadata": {},
   "outputs": [
    {
     "name": "stdout",
     "output_type": "stream",
     "text": [
      "[1.5708    1.53807   1.50535   1.47262   1.4399    1.40717   1.37445\n",
      " 1.34172   1.309     1.27627   1.24355   1.21082   1.1781    1.14537\n",
      " 1.11265   1.07992   1.0472    1.01447   0.981748  0.949023  0.916298\n",
      " 0.883573  0.850848  0.818123  0.785398  0.752673  0.719948  0.687223\n",
      " 0.654499  0.621774  0.589049  0.556324  0.523599  0.490874  0.458149\n",
      " 0.425424  0.392699  0.359974  0.327249  0.294524  0.261799  0.229074\n",
      " 0.19635   0.163625  0.1309    0.0981748 0.0654498 0.0327249 0.       ]\n",
      "49\n"
     ]
    }
   ],
   "source": [
    "print(tt)\n",
    "print(len(tt))"
   ]
  },
  {
   "cell_type": "code",
   "execution_count": 18,
   "metadata": {},
   "outputs": [
    {
     "data": {
      "text/plain": [
       "array([-0.03273  , -0.03272  , -0.03273  , -0.03272  , -0.03273  ,\n",
       "       -0.03272  , -0.03273  , -0.03272  , -0.03273  , -0.03272  ,\n",
       "       -0.03273  , -0.03272  , -0.03273  , -0.03272  , -0.03273  ,\n",
       "       -0.03272  , -0.03273  , -0.032722 , -0.032725 , -0.032725 ,\n",
       "       -0.032725 , -0.032725 , -0.032725 , -0.032725 , -0.032725 ,\n",
       "       -0.032725 , -0.032725 , -0.032724 , -0.032725 , -0.032725 ,\n",
       "       -0.032725 , -0.032725 , -0.032725 , -0.032725 , -0.032725 ,\n",
       "       -0.032725 , -0.032725 , -0.032725 , -0.032725 , -0.032725 ,\n",
       "       -0.032725 , -0.032724 , -0.032725 , -0.032725 , -0.0327252,\n",
       "       -0.032725 , -0.0327249, -0.0327249])"
      ]
     },
     "execution_count": 18,
     "metadata": {},
     "output_type": "execute_result"
    }
   ],
   "source": [
    "np.diff(tt)"
   ]
  },
  {
   "cell_type": "code",
   "execution_count": 19,
   "metadata": {},
   "outputs": [],
   "source": [
    "nt = len(tt)\n",
    "nr = len(rr)"
   ]
  },
  {
   "cell_type": "code",
   "execution_count": 20,
   "metadata": {},
   "outputs": [],
   "source": [
    "# The latitudes are ~linearly spaced (thanks Rachel!) Let's do Simpson integration from the equator\n",
    "# to get S and P\n",
    "from scipy.integrate import simps\n",
    "\n",
    "P_dev = np.zeros((nt, nr))\n",
    "for ir in range(nr):\n",
    "    dPdt_loc = dPdt[:, ir]\n",
    "    for it in range(nt):\n",
    "        P_dev[it, ir] = simps(dPdt_loc[:it+1], tt[:it+1])"
   ]
  },
  {
   "cell_type": "code",
   "execution_count": 21,
   "metadata": {},
   "outputs": [],
   "source": [
    "# Integrate S\n",
    "S_dev = np.zeros((nt, nr))\n",
    "for ir in range(nr):\n",
    "    dSdt_loc = dSdt[:, ir]\n",
    "    for it in range(nt):\n",
    "        S_dev[it, ir] = simps(dSdt_loc[:it+1], tt[:it+1])"
   ]
  },
  {
   "cell_type": "code",
   "execution_count": 22,
   "metadata": {},
   "outputs": [],
   "source": [
    "# interpolate for T and P\n",
    "T_ref = eq.temperature\n",
    "prs_ref = eq.pressure\n",
    "\n",
    "f = interp1d(rr_ref, T_ref)\n",
    "T = f(rr)\n",
    "\n",
    "f = interp1d(rr_ref, prs_ref)\n",
    "prs = f(rr)"
   ]
  },
  {
   "cell_type": "code",
   "execution_count": 23,
   "metadata": {},
   "outputs": [],
   "source": [
    "# Get the temperature two\n",
    "gam = 5./3.\n",
    "T_dev = T*(S_dev/cp + (1. - 1./gam)*P_dev/prs)"
   ]
  },
  {
   "cell_type": "code",
   "execution_count": 24,
   "metadata": {},
   "outputs": [],
   "source": [
    "# Let's extend these arrays to the Southern hemisphere (keeping them even about the equator)\n",
    "tt2 = np.zeros(2*nt)\n",
    "tt2[:nt] = np.pi - tt[::-1]\n",
    "tt2[nt:] = np.copy(tt)\n",
    "\n",
    "cost2 = np.cos(tt2)\n",
    "sint2 = np.sin(tt2)\n",
    "\n",
    "T_dev2 = np.zeros((2*nt, nr))\n",
    "T_dev2[:nt, :] = np.copy(T_dev[::-1, :])\n",
    "T_dev2[nt:, :] = np.copy(T_dev)\n",
    "\n",
    "S_dev2 = np.zeros((2*nt, nr))\n",
    "S_dev2[:nt, :] = np.copy(S_dev[::-1, :])\n",
    "S_dev2[nt:, :] = np.copy(S_dev)\n",
    "\n",
    "P_dev2 = np.zeros((2*nt, nr))\n",
    "P_dev2[:nt, :] = np.copy(P_dev[::-1, :])\n",
    "P_dev2[nt:, :] = np.copy(P_dev)"
   ]
  },
  {
   "cell_type": "code",
   "execution_count": 25,
   "metadata": {},
   "outputs": [],
   "source": [
    "# Let's plot the result for just temperature\n",
    "def plot_azav_half(fig, axis, field, radius, costheta, sintheta,\n",
    "        mycmap=plt.cm.RdYlBu_r, units = r'$\\rm{m}\\ \\rm{s}^{-1}$', \n",
    "        nlevs = 10, minmax=None, maxlat=90.,\n",
    "        plotcontours=True, plotfield=True, plotlatlines=False,\n",
    "        norm=None, levels=None, fsize=8, odd=True, plot_cbar=True, rvals=None):\n",
    "    '''Takes a figure with a subplot (axis) of aspect ratio 1x1 and adds\n",
    "    a plot of the upper meridional plane to the axis, with colorbar in the \"cavity\"\n",
    "    of the meridional plane'''\n",
    "\n",
    "    field = np.copy(field)\n",
    "    radius = np.copy(radius)\n",
    "    costheta = np.copy(costheta)\n",
    "    sintheta = np.copy(sintheta)\n",
    "    \n",
    "    # First, \"fold\" the field in half, using odd symmetry\n",
    "    # Please don't try this with odd N_theta!\n",
    "    nt = len(costheta)\n",
    "    it_half = int(nt/2)\n",
    "    \n",
    "    # Field is ordered from theta=pi (south pole) to theta=0 (north pole)\n",
    "    # Average the Northern and Southern hemispheres together(must flip the Southern hemisphere)\n",
    "    # Also add the negative of the southern hemisphere, since antisymmetric\n",
    "    if odd:\n",
    "        field = 0.5*(field[it_half:, :] - np.flip(field[:it_half, :], axis=0))\n",
    "    else:\n",
    "        field = 0.5*(field[it_half:, :] + np.flip(field[:it_half, :], axis=0))\n",
    "    costheta = costheta[it_half:]\n",
    "    sintheta = sintheta[it_half:]\n",
    "    \n",
    "    if minmax is None:\n",
    "        # By default, do the max/min values of the field not including lats > 75\n",
    "        it_75 = np.argmin(np.abs(costheta - np.cos(np.pi/12)))\n",
    "        mini, maxi = np.min(field[:it_75, :]), np.max(field[:it_75,:])\n",
    "        maxabs = max(np.abs(mini), np.abs(maxi))\n",
    "        mini, maxi = -maxabs, maxabs\n",
    "    else:\n",
    "        mini, maxi = minmax\n",
    "\n",
    "    # Get the exponent to use for scientific notation\n",
    "    extent = np.max((np.abs(mini), np.abs(maxi)))\n",
    "    exp = int(np.floor(np.log10(extent)))\n",
    "    divisor = 10**exp\n",
    "    \n",
    "    # Normalize field by divisor\n",
    "    field /= divisor\n",
    "    mini /= divisor\n",
    "    maxi /= divisor\n",
    "   \n",
    "    # Get the position of the axes on the figure\n",
    "    pos = axis.get_position().get_points()\n",
    "    axis_left, axis_bottom = pos[0]\n",
    "    axis_right, axis_top = pos[1]\n",
    "    axis_width = axis_right - axis_left\n",
    "    axis_height = axis_top - axis_bottom\n",
    "    axis_aspect = axis_height/axis_width\n",
    "   \n",
    "    # Set the colorbar axis to be in the \"cavity\" of the meridional plane\n",
    "    # The colorbar height is set by making sure it \"fits\" in the cavity\n",
    "    chi = np.min(radius)/np.max(radius) # aspect ratio of the shell\n",
    "    cavity_height = axis_height*chi\n",
    "    cbaxis_aspect = 10\n",
    "    cbaxis_height = 0.7*cavity_height\n",
    "    cbaxis_width = cbaxis_height/cbaxis_aspect / axis_aspect\n",
    "    \n",
    "    cbaxis_left = axis_left + 0.1*axis_width\n",
    "    cbaxis_bottom = axis_bottom + 0.1*axis_height\n",
    "    \n",
    "    #Modified version of Antoine Strukarek's routine\n",
    "    r = radius/np.max(radius)\n",
    "    n_r = len(r)\n",
    "    n_t = it_half\n",
    "    rtmp = r.reshape(1, n_r)\n",
    "    cthtmp = costheta.reshape(n_t, 1)\n",
    "    sthtmp = sintheta.reshape(n_t, 1)\n",
    "    xr = np.dot(cthtmp, rtmp)\n",
    "    yr = np.dot(sthtmp, rtmp)\n",
    "    \n",
    "    # Specify linewidths to be used in the meridional plane, one for the \n",
    "    # boundary (lw) and one for the contours (contour_lw)\n",
    "    lw = 1\n",
    "    contour_lw = .2\n",
    "    \n",
    "    # Only plot the field cutoff\n",
    "    theta_lat = (90. - maxlat)*np.pi/180\n",
    "    it_max = np.argmin(np.abs(costheta - np.cos(theta_lat)))\n",
    "    yr = yr[:it_max+1, :]\n",
    "    xr = xr[:it_max+1, :]\n",
    "    field = field[:it_max+1, :]\n",
    "    \n",
    "    if (plotfield):\n",
    "        plt.sca(axis)\n",
    "        plt.pcolormesh(yr, xr, field, vmin=mini, vmax=maxi,\\\n",
    "                cmap=mycmap, norm=norm)\n",
    "     \n",
    "        if plot_cbar:\n",
    "            cbaxes = fig.add_axes([cbaxis_left, cbaxis_bottom,\\\n",
    "                           cbaxis_width, cbaxis_height])\n",
    "            cbar = plt.colorbar(cax=cbaxes)\n",
    "\n",
    "            #fsize = 8 # fontsize for colorbar ticks and labels\n",
    "            cbaxes.tick_params(labelsize=fsize)\n",
    "    #        cbar.set_label(units, rotation=270, labelpad=25, fontsize=18)\n",
    "            cbar.ax.tick_params(labelsize=fsize)   #font size for the ticks\n",
    "            ticks = np.array([mini, 0, maxi])\n",
    "            ticklabels = []\n",
    "            for i in range(len(ticks)):\n",
    "                ticklabels.append(str(round(ticks[i],1)))\n",
    "            ticks = np.array(ticks)\n",
    "            cbar.set_ticks(ticks)\n",
    "            cbar.set_ticklabels(ticklabels)\n",
    "\n",
    "            # Put the units and exponent to left of colorbar\n",
    "            cbar_label = (r'$\\times10^{%i}\\ $' %exp) + units\n",
    "            fig.text(cbaxis_left - 0.3*cbaxis_width, cbaxis_bottom + cbaxis_height/2, cbar_label,\\\n",
    "                ha='right', va='center', rotation=90, fontsize=fsize)\n",
    "\n",
    "    # Plot the boundary of the meridional plane\n",
    "    plt.sca(axis)\n",
    "    plt.plot(r[0]*sintheta[:it_max+1], r[0]*costheta[:it_max+1], 'k', linewidth=lw) # outer boundary\n",
    "    plt.plot(r[n_r-1]*sintheta[:it_max+1], r[n_r-1]*costheta[:it_max+1], 'k', linewidth=lw) # inner boundary\n",
    "    plt.plot([r[n_r-1]*sintheta[it_max], r[0]*sintheta[it_max]], [r[n_r-1]*costheta[it_max],\\\n",
    "                                                                  r[0]*costheta[it_max]], 'k', linewidth=lw) # polar \"edge\"\n",
    "    plt.plot([r[n_r-1], r[0]], [0,0], 'k', linewidth=lw) # equatorial \"edge\"\n",
    "\n",
    "    # Plot latitude lines, if desired\n",
    "    if plotlatlines:\n",
    "        lats_to_plot = np.arange(-75, 90, 15)\n",
    "        for lat in lats_to_plot:\n",
    "            theta_val = (90 - lat)*np.pi/180\n",
    "            x_in, z_in = r[-1]*np.sin(theta_val), r[-1]*np.cos(theta_val)\n",
    "            x_out, z_out = r[0]*np.sin(theta_val), r[0]*np.cos(theta_val)\n",
    "            plt.sca(axis)\n",
    "            plt.plot([x_in, x_out], [z_in, z_out], 'k',\\\n",
    "                    linewidth=contour_lw)\n",
    "    if not rvals is None:\n",
    "        for rval in rvals: \n",
    "            plt.sca(axis)\n",
    "            rval /= np.max(radius)\n",
    "            # \"dimensional\" rval (in dimensions of ro!)\n",
    "            plt.plot(rval*sintheta[:it_max+1], rval*costheta[:it_max+1], 'k', linewidth=lw) # r value\n",
    "\n",
    "            #plt.plot(rval*sint, rval*cost, 'k--',\\\n",
    "            #        linewidth=.7*lw_scaling)\n",
    "\n",
    "    # Set axis ranges to be just outside the boundary lines\n",
    "    lilbit = 0.01\n",
    "    axis.set_xlim((-lilbit, 1 + lilbit))\n",
    "    axis.set_ylim((-lilbit, 1 + lilbit))\n",
    "    axis.axis('off') \n",
    "\n",
    "    if (plotcontours):\n",
    "        if levels is None:\n",
    "            levs=mini+np.linspace(1,nlevs,nlevs)/float(nlevs)*(maxi-mini)\n",
    "        else: # the caller specified specific contour levels to plot!\n",
    "            levs=np.array(levels)\n",
    "        plt.contour(yr,xr,field,colors='k',levels=levs, linewidths=contour_lw)"
   ]
  },
  {
   "cell_type": "code",
   "execution_count": 27,
   "metadata": {
    "scrolled": true
   },
   "outputs": [
    {
     "data": {
      "image/png": "[encoded data removed]",
      "text/plain": [
       "<Figure size 247.5x256.5 with 2 Axes>"
      ]
     },
     "metadata": {
      "needs_background": "light"
     },
     "output_type": "display_data"
    }
   ],
   "source": [
    "# Make figure\n",
    "fig_width_inches = 3 + 7/16\n",
    "margin_inches = 1./8.\n",
    "margin_top_inches = 1./4.\n",
    "margin_left_inches = 1./8.\n",
    "subplot_width_inches = (fig_width_inches - 1*margin_inches - margin_left_inches)\n",
    "subplot_height_inches = subplot_width_inches\n",
    "fig_height_inches = 1*(subplot_height_inches + margin_inches) + margin_top_inches\n",
    "\n",
    "fig_aspect = fig_height_inches/fig_width_inches\n",
    "margin_x = margin_inches/fig_width_inches\n",
    "margin_y = margin_inches/fig_height_inches\n",
    "margin_top = margin_top_inches/fig_height_inches\n",
    "margin_left = margin_left_inches/fig_width_inches\n",
    "\n",
    "subplot_width = subplot_width_inches/fig_width_inches\n",
    "subplot_height = subplot_height_inches/fig_height_inches\n",
    "   \n",
    "fig = plt.figure(figsize=(fig_width_inches, fig_height_inches))\n",
    "\n",
    "ax1 = fig.add_axes((margin_left, 1 - margin_top - subplot_height, subplot_width, subplot_height))   \n",
    "#ax2 = fig.add_axes((margin_left + 1*(subplot_width + margin_x),\\\n",
    "#                    1 - margin_top - subplot_height, subplot_width, subplot_height))\n",
    "#ax3 = fig.add_axes((margin_left + 2*(subplot_width + margin_x),\\\n",
    "#                    1 - margin_top - subplot_height, subplot_width, subplot_height))\n",
    "\n",
    "units_s = r'$\\rm{erg\\ g^{-1}\\ K^{-1}}$'\n",
    "units_p = r'$\\rm{dyn\\ cm^{-2}}$'\n",
    "units_T = r'$\\rm{K}$'\n",
    "\n",
    "az_fs = 12\n",
    "# Ignore NSSL\n",
    "#ircut = np.argmin(np.abs(rr - 6.7e10))\n",
    "ircut = 0\n",
    "#plot_azav_half (fig, ax1, S_dev2[:, ircut:], rr[ircut:], cost2, sint2, fsize=az_fs,\\\n",
    "#               units=units_s, minmax=(-2.5e3, 2.5e3), odd=False)\n",
    "#plot_azav_half (fig, ax2, P_dev2[:, ircut:], rr[ircut:], cost2, sint2, fsize=az_fs,\\\n",
    "#               units=units_p, minmax=None, odd=False)\n",
    "plot_azav_half (fig, ax1, T_dev2[:, ircut:], rr[ircut:], cost2, sint2, fsize=az_fs,\\\n",
    "               units=units_T, minmax=(-12, 12), odd=False, plot_cbar=True, maxlat=90, nlevs=20, rvals=[5e10])\n",
    "\n",
    "\n",
    "\n",
    "fs=14\n",
    "# Label the top with the thermal variable\n",
    "#fig.text(margin_left + 0.5*subplot_width, 1 - margin_top + margin_y/2,\\\n",
    "#         r'$\\langle S\\rangle - \\langle S\\rangle_{\\rm{sph}}$', fontsize=fs, **csfont, ha='center', va='bottom')\n",
    "#fig.text(margin_left + 0.5*subplot_width + 1*(subplot_width + margin_x), 1 - margin_top + margin_y/2,\\\n",
    "#         r'$\\langle P\\rangle - \\langle P\\rangle_{\\rm{sph}}$', fontsize=fs, **csfont, ha='center', va='bottom')\n",
    "title = 'solar thermal-wind temperature'\n",
    "#title = r'$\\langle T\\rangle - \\langle T\\rangle_{\\rm{sph}}$'\n",
    "fig.text(margin_left + 0.5*subplot_width + 0*(subplot_width + margin_x), 1 - margin_top + margin_y/2,\\\n",
    "         title, fontsize=fs, **csfont, ha='center', va='bottom')\n",
    "\n",
    "plt.savefig('./solar_thermal_wind_temp.png', dpi=300)"
   ]
  },
  {
   "cell_type": "code",
   "execution_count": null,
   "metadata": {},
   "outputs": [],
   "source": []
  }
 ],
 "metadata": {
  "kernelspec": {
   "display_name": "Python 3",
   "language": "python",
   "name": "python3"
  },
  "language_info": {
   "codemirror_mode": {
    "name": "ipython",
    "version": 3
   },
   "file_extension": ".py",
   "mimetype": "text/x-python",
   "name": "python",
   "nbconvert_exporter": "python",
   "pygments_lexer": "ipython3",
   "version": "3.7.9"
  }
 },
 "nbformat": 4,
 "nbformat_minor": 2
}
