{
 "cells": [
  {
   "cell_type": "code",
   "execution_count": 19,
   "metadata": {},
   "outputs": [],
   "source": [
    "import numpy as np\n",
    "import pickle\n",
    "import matplotlib as mpl\n",
    "mpl.use('TkAgg')\n",
    "sys.path.append(os.environ['rapp'])\n",
    "sys.path.append(os.environ['raco'])\n",
    "import matplotlib.pyplot as plt\n",
    "plt.rcParams['mathtext.fontset'] = 'dejavuserif'\n",
    "csfont = {'fontname':'DejaVu Serif'}\n",
    "ticklabelsize = 6\n",
    "plt.rcParams['xtick.labelsize'] = ticklabelsize\n",
    "plt.rcParams['ytick.labelsize'] = ticklabelsize\n",
    "%matplotlib inline\n",
    "import sys, os\n",
    "from azav_util import plot_azav\n",
    "from common import get_widest_range_file, strip_dirname, get_dict, rms\n",
    "from derivs import drad, dth\n",
    "from get_parameter import get_parameter"
   ]
  },
  {
   "cell_type": "code",
   "execution_count": 2,
   "metadata": {},
   "outputs": [],
   "source": [
    "# Make function to flip array with AZ array with either even or odd symmetry\n",
    "def symmetrize_field(field, sym):\n",
    "    nt, nr = np.shape(field)\n",
    "    new_field = np.copy(field)\n",
    "    # \"Fold\" the field in half\n",
    "       \n",
    "    # Field is ordered from theta=pi (south pole) to theta=0 (north pole)\n",
    "    # Average the Northern and Southern hemispheres together (must flip \n",
    "    # the Southern hemisphere with respect to latitude, then add or subtract it\n",
    "    if sym=='even':\n",
    "        new_field = 0.5*(new_field + np.flip(new_field, axis=0))\n",
    "    elif sym=='odd':\n",
    "        new_field = 0.5*(new_field - np.flip(new_field, axis=0))\n",
    "  \n",
    "    return new_field"
   ]
  },
  {
   "cell_type": "code",
   "execution_count": 4,
   "metadata": {},
   "outputs": [],
   "source": [
    "# Get Rachel's solar data\n",
    "di = get_dict('/mizar/loma3853/fixedflux/paperplots/gongdata/avgong.pkl')\n",
    "Om = di['om']*1e-9*(2*np.pi) # nHz --> rad/s\n",
    "rsun = 6.957e10\n",
    "rr = di['rr']*rsun\n",
    "tt = di['tt']\n",
    "cost_2d = di['cost_2d']\n",
    "sint_2d = di['sint_2d']\n",
    "rr_2d = di['rr_2d']*rsun\n",
    "cost = np.cos(tt)\n",
    "sint = np.sin(tt)"
   ]
  },
  {
   "cell_type": "code",
   "execution_count": 5,
   "metadata": {
    "scrolled": true
   },
   "outputs": [
    {
     "data": {
      "text/plain": [
       "array([6.96193947e+10, 6.96020022e+10, 6.95832183e+10, 6.95603298e+10,\n",
       "       6.95294407e+10, 6.94894379e+10, 6.94397650e+10, 6.93787521e+10,\n",
       "       6.93034078e+10, 6.92087926e+10, 6.90872538e+10, 6.89275210e+10,\n",
       "       6.87120628e+10, 6.84282867e+10, 6.80789062e+10, 6.76584251e+10,\n",
       "       6.71572428e+10, 6.65714634e+10, 6.58996955e+10, 6.51402694e+10,\n",
       "       6.42911675e+10, 6.33503029e+10, 6.23150317e+10, 6.11827799e+10,\n",
       "       5.99502082e+10, 5.86137686e+10, 5.71694258e+10, 5.56124492e+10,\n",
       "       5.39370644e+10, 5.21369407e+10, 5.02045644e+10, 4.81366657e+10,\n",
       "       4.59567593e+10, 4.36766721e+10, 4.12993261e+10, 3.88242342e+10,\n",
       "       3.62477788e+10, 3.35640465e+10, 3.07658715e+10, 2.78460882e+10,\n",
       "       2.48004527e+10, 2.16318175e+10, 1.83538183e+10, 1.50028401e+10,\n",
       "       1.16941604e+10, 8.69896323e+09, 6.25519871e+09, 4.31282518e+09,\n",
       "       2.70508335e+09, 1.29888581e+09, 0.00000000e+00])"
      ]
     },
     "execution_count": 5,
     "metadata": {},
     "output_type": "execute_result"
    }
   ],
   "source": [
    "rr"
   ]
  },
  {
   "cell_type": "code",
   "execution_count": 6,
   "metadata": {},
   "outputs": [
    {
     "data": {
      "text/plain": [
       "array([6.96193947e+10, 6.96020022e+10, 6.95832183e+10, 6.95603298e+10,\n",
       "       6.95294407e+10, 6.94894379e+10, 6.94397650e+10, 6.93787521e+10,\n",
       "       6.93034078e+10, 6.92087926e+10, 6.90872538e+10, 6.89275210e+10,\n",
       "       6.87120628e+10, 6.84282867e+10, 6.80789062e+10, 6.76584251e+10,\n",
       "       6.71572428e+10, 6.65714634e+10, 6.58996955e+10, 6.51402694e+10,\n",
       "       6.42911675e+10, 6.33503029e+10, 6.23150317e+10, 6.11827799e+10,\n",
       "       5.99502082e+10, 5.86137686e+10, 5.71694258e+10, 5.56124492e+10,\n",
       "       5.39370644e+10, 5.21369407e+10, 5.02045644e+10, 4.81366657e+10,\n",
       "       4.59567593e+10, 4.36766721e+10])"
      ]
     },
     "execution_count": 6,
     "metadata": {},
     "output_type": "execute_result"
    }
   ],
   "source": [
    "# Let's remove the r-values lower than 4.176 x 10^10 cm\n",
    "ircut = np.argmin(np.abs(rr - 4.176e10))\n",
    "rr = rr[:ircut]\n",
    "cost_2d = cost_2d[:, :ircut]\n",
    "sint_2d = sint_2d[:, :ircut]\n",
    "rr_2d = rr_2d[:, :ircut]\n",
    "Om = Om[:, :ircut]\n",
    "rr"
   ]
  },
  {
   "cell_type": "code",
   "execution_count": 7,
   "metadata": {},
   "outputs": [
    {
     "data": {
      "text/plain": [
       "array([6.92087926e+10, 6.90872538e+10, 6.89275210e+10, 6.87120628e+10,\n",
       "       6.84282867e+10, 6.80789062e+10, 6.76584251e+10, 6.71572428e+10,\n",
       "       6.65714634e+10, 6.58996955e+10, 6.51402694e+10, 6.42911675e+10,\n",
       "       6.33503029e+10, 6.23150317e+10, 6.11827799e+10, 5.99502082e+10,\n",
       "       5.86137686e+10, 5.71694258e+10, 5.56124492e+10, 5.39370644e+10,\n",
       "       5.21369407e+10, 5.02045644e+10, 4.81366657e+10, 4.59567593e+10,\n",
       "       4.36766721e+10])"
      ]
     },
     "execution_count": 7,
     "metadata": {},
     "output_type": "execute_result"
    }
   ],
   "source": [
    "# And the r-values over 6.93e10 (note that at 6.94e10, my quartic CZ-RZ reference state gives nans...)\n",
    "ircut = np.argmin(np.abs(rr - 6.93e10))\n",
    "rr = rr[ircut+1:]\n",
    "cost_2d = cost_2d[:, ircut+1:]\n",
    "sint_2d = sint_2d[:, ircut+1:]\n",
    "rr_2d = rr_2d[:, ircut+1:]\n",
    "Om = Om[:, ircut+1:]\n",
    "nr = len(rr)\n",
    "rr"
   ]
  },
  {
   "cell_type": "code",
   "execution_count": 8,
   "metadata": {},
   "outputs": [],
   "source": [
    "L = (rr_2d*sint_2d)**2.0*Om"
   ]
  },
  {
   "cell_type": "code",
   "execution_count": 18,
   "metadata": {},
   "outputs": [
    {
     "ename": "NameError",
     "evalue": "name 'nt' is not defined",
     "output_type": "error",
     "traceback": [
      "\u001b[0;31m---------------------------------------------------------------------------\u001b[0m",
      "\u001b[0;31mNameError\u001b[0m                                 Traceback (most recent call last)",
      "\u001b[0;32m<ipython-input-18-058aba34d718>\u001b[0m in \u001b[0;36m<module>\u001b[0;34m\u001b[0m\n\u001b[1;32m      1\u001b[0m \u001b[0;31m# Let's extend these arrays to the Southern hemisphere (keeping them even about the equator)\u001b[0m\u001b[0;34m\u001b[0m\u001b[0;34m\u001b[0m\u001b[0;34m\u001b[0m\u001b[0m\n\u001b[0;32m----> 2\u001b[0;31m \u001b[0mtt2\u001b[0m \u001b[0;34m=\u001b[0m \u001b[0mnp\u001b[0m\u001b[0;34m.\u001b[0m\u001b[0mzeros\u001b[0m\u001b[0;34m(\u001b[0m\u001b[0;36m2\u001b[0m\u001b[0;34m*\u001b[0m\u001b[0mnt\u001b[0m\u001b[0;34m)\u001b[0m\u001b[0;34m\u001b[0m\u001b[0;34m\u001b[0m\u001b[0m\n\u001b[0m\u001b[1;32m      3\u001b[0m \u001b[0mtt2\u001b[0m\u001b[0;34m[\u001b[0m\u001b[0;34m:\u001b[0m\u001b[0mnt\u001b[0m\u001b[0;34m]\u001b[0m \u001b[0;34m=\u001b[0m \u001b[0mnp\u001b[0m\u001b[0;34m.\u001b[0m\u001b[0mpi\u001b[0m \u001b[0;34m-\u001b[0m \u001b[0mtt\u001b[0m\u001b[0;34m[\u001b[0m\u001b[0;34m:\u001b[0m\u001b[0;34m:\u001b[0m\u001b[0;34m-\u001b[0m\u001b[0;36m1\u001b[0m\u001b[0;34m]\u001b[0m\u001b[0;34m\u001b[0m\u001b[0;34m\u001b[0m\u001b[0m\n\u001b[1;32m      4\u001b[0m \u001b[0mtt2\u001b[0m\u001b[0;34m[\u001b[0m\u001b[0mnt\u001b[0m\u001b[0;34m:\u001b[0m\u001b[0;34m]\u001b[0m \u001b[0;34m=\u001b[0m \u001b[0mnp\u001b[0m\u001b[0;34m.\u001b[0m\u001b[0mcopy\u001b[0m\u001b[0;34m(\u001b[0m\u001b[0mtt\u001b[0m\u001b[0;34m)\u001b[0m\u001b[0;34m\u001b[0m\u001b[0;34m\u001b[0m\u001b[0m\n\u001b[1;32m      5\u001b[0m \u001b[0;34m\u001b[0m\u001b[0m\n",
      "\u001b[0;31mNameError\u001b[0m: name 'nt' is not defined"
     ]
    }
   ],
   "source": [
    "# Let's extend these arrays to the Southern hemisphere (keeping them even about the equator)\n",
    "tt2 = np.zeros(2*nt)\n",
    "tt2[:nt] = np.pi - tt[::-1]\n",
    "tt2[nt:] = np.copy(tt)\n",
    "\n",
    "cost2 = np.cos(tt2)\n",
    "sint2 = np.sin(tt2)\n",
    "\n",
    "L2 = np.zeros((2*nt, nr))\n",
    "L2[:nt, :] = np.copy(L[::-1, :])\n",
    "L2[nt:, :] = np.copy(L)\n"
   ]
  },
  {
   "cell_type": "code",
   "execution_count": 17,
   "metadata": {},
   "outputs": [
    {
     "ename": "ValueError",
     "evalue": "operands could not be broadcast together with shapes (25,25) (24,25) ",
     "output_type": "error",
     "traceback": [
      "\u001b[0;31m---------------------------------------------------------------------------\u001b[0m",
      "\u001b[0;31mValueError\u001b[0m                                Traceback (most recent call last)",
      "\u001b[0;32m<ipython-input-17-6f6c4b2e72a7>\u001b[0m in \u001b[0;36m<module>\u001b[0;34m\u001b[0m\n\u001b[1;32m     31\u001b[0m \u001b[0msint2\u001b[0m\u001b[0;34m=\u001b[0m\u001b[0msint_2d\u001b[0m\u001b[0;34m\u001b[0m\u001b[0;34m\u001b[0m\u001b[0m\n\u001b[1;32m     32\u001b[0m plot_azav_half (fig, ax1, (L/1e16)[:, ircut:], rr[ircut:], cost2, sint2, fsize=az_fs,\\\n\u001b[0;32m---> 33\u001b[0;31m                units=units, odd=False)\n\u001b[0m\u001b[1;32m     34\u001b[0m \u001b[0;34m\u001b[0m\u001b[0m\n\u001b[1;32m     35\u001b[0m \u001b[0;34m\u001b[0m\u001b[0m\n",
      "\u001b[0;32m<ipython-input-13-ec3f024a241f>\u001b[0m in \u001b[0;36mplot_azav_half\u001b[0;34m(fig, axis, field, radius, costheta, sintheta, mycmap, units, nlevs, minmax, plotcontours, plotfield, plotlatlines, norm, levels, fsize, odd)\u001b[0m\n\u001b[1;32m     20\u001b[0m         \u001b[0mfield\u001b[0m \u001b[0;34m=\u001b[0m \u001b[0;36m0.5\u001b[0m\u001b[0;34m*\u001b[0m\u001b[0;34m(\u001b[0m\u001b[0mfield\u001b[0m\u001b[0;34m[\u001b[0m\u001b[0mit_half\u001b[0m\u001b[0;34m:\u001b[0m\u001b[0;34m,\u001b[0m \u001b[0;34m:\u001b[0m\u001b[0;34m]\u001b[0m \u001b[0;34m-\u001b[0m \u001b[0mnp\u001b[0m\u001b[0;34m.\u001b[0m\u001b[0mflip\u001b[0m\u001b[0;34m(\u001b[0m\u001b[0mfield\u001b[0m\u001b[0;34m[\u001b[0m\u001b[0;34m:\u001b[0m\u001b[0mit_half\u001b[0m\u001b[0;34m,\u001b[0m \u001b[0;34m:\u001b[0m\u001b[0;34m]\u001b[0m\u001b[0;34m,\u001b[0m \u001b[0maxis\u001b[0m\u001b[0;34m=\u001b[0m\u001b[0;36m0\u001b[0m\u001b[0;34m)\u001b[0m\u001b[0;34m)\u001b[0m\u001b[0;34m\u001b[0m\u001b[0;34m\u001b[0m\u001b[0m\n\u001b[1;32m     21\u001b[0m     \u001b[0;32melse\u001b[0m\u001b[0;34m:\u001b[0m\u001b[0;34m\u001b[0m\u001b[0;34m\u001b[0m\u001b[0m\n\u001b[0;32m---> 22\u001b[0;31m         \u001b[0mfield\u001b[0m \u001b[0;34m=\u001b[0m \u001b[0;36m0.5\u001b[0m\u001b[0;34m*\u001b[0m\u001b[0;34m(\u001b[0m\u001b[0mfield\u001b[0m\u001b[0;34m[\u001b[0m\u001b[0mit_half\u001b[0m\u001b[0;34m:\u001b[0m\u001b[0;34m,\u001b[0m \u001b[0;34m:\u001b[0m\u001b[0;34m]\u001b[0m \u001b[0;34m+\u001b[0m \u001b[0mnp\u001b[0m\u001b[0;34m.\u001b[0m\u001b[0mflip\u001b[0m\u001b[0;34m(\u001b[0m\u001b[0mfield\u001b[0m\u001b[0;34m[\u001b[0m\u001b[0;34m:\u001b[0m\u001b[0mit_half\u001b[0m\u001b[0;34m,\u001b[0m \u001b[0;34m:\u001b[0m\u001b[0;34m]\u001b[0m\u001b[0;34m,\u001b[0m \u001b[0maxis\u001b[0m\u001b[0;34m=\u001b[0m\u001b[0;36m0\u001b[0m\u001b[0;34m)\u001b[0m\u001b[0;34m)\u001b[0m\u001b[0;34m\u001b[0m\u001b[0;34m\u001b[0m\u001b[0m\n\u001b[0m\u001b[1;32m     23\u001b[0m     \u001b[0mcostheta\u001b[0m \u001b[0;34m=\u001b[0m \u001b[0mcostheta\u001b[0m\u001b[0;34m[\u001b[0m\u001b[0mit_half\u001b[0m\u001b[0;34m:\u001b[0m\u001b[0;34m]\u001b[0m\u001b[0;34m\u001b[0m\u001b[0;34m\u001b[0m\u001b[0m\n\u001b[1;32m     24\u001b[0m     \u001b[0msintheta\u001b[0m \u001b[0;34m=\u001b[0m \u001b[0msintheta\u001b[0m\u001b[0;34m[\u001b[0m\u001b[0mit_half\u001b[0m\u001b[0;34m:\u001b[0m\u001b[0;34m]\u001b[0m\u001b[0;34m\u001b[0m\u001b[0;34m\u001b[0m\u001b[0m\n",
      "\u001b[0;31mValueError\u001b[0m: operands could not be broadcast together with shapes (25,25) (24,25) "
     ]
    },
    {
     "data": {
      "image/png": "[encoded data removed]",
      "text/plain": [
       "<Figure size 247.5x256.5 with 1 Axes>"
      ]
     },
     "metadata": {
      "needs_background": "light"
     },
     "output_type": "display_data"
    }
   ],
   "source": [
    "# Make figure\n",
    "fig_width_inches = 3 + 7/16\n",
    "margin_inches = 1./8.\n",
    "margin_top_inches = 1./4.\n",
    "margin_left_inches = 1./8.\n",
    "subplot_width_inches = (fig_width_inches - 1*margin_inches - margin_left_inches)\n",
    "subplot_height_inches = subplot_width_inches\n",
    "fig_height_inches = 1*(subplot_height_inches + margin_inches) + margin_top_inches\n",
    "\n",
    "fig_aspect = fig_height_inches/fig_width_inches\n",
    "margin_x = margin_inches/fig_width_inches\n",
    "margin_y = margin_inches/fig_height_inches\n",
    "margin_top = margin_top_inches/fig_height_inches\n",
    "margin_left = margin_left_inches/fig_width_inches\n",
    "\n",
    "subplot_width = subplot_width_inches/fig_width_inches\n",
    "subplot_height = subplot_height_inches/fig_height_inches\n",
    "   \n",
    "fig = plt.figure(figsize=(fig_width_inches, fig_height_inches))\n",
    "\n",
    "ax1 = fig.add_axes((margin_left, 1 - margin_top - subplot_height, subplot_width, subplot_height))   \n",
    "\n",
    "\n",
    "units = r'$\\rm{Mm^2\\ s^{-1}}$'\n",
    "\n",
    "az_fs = 12\n",
    "# Ignore NSSL\n",
    "#ircut = np.argmin(np.abs(rr - 6.7e10))\n",
    "ircut = 0\n",
    "cost2=cost_2d\n",
    "sint2=sint_2d\n",
    "plot_azav_half (fig, ax1, (L/1e16)[:, ircut:], rr[ircut:], cost2, sint2, fsize=az_fs,\\\n",
    "               units=units, odd=False)\n",
    "\n",
    "\n",
    "fs=14\n",
    "\n",
    "title = 'solar specific amom'\n",
    "#title = r'$\\langle T\\rangle - \\langle T\\rangle_{\\rm{sph}}$'\n",
    "fig.text(margin_left + 0.5*subplot_width + 0*(subplot_width + margin_x), 1 - margin_top + margin_y/2,\\\n",
    "         title, fontsize=fs, **csfont, ha='center', va='bottom')\n",
    "\n",
    "#plt.savefig('images/thermo_merplane_Sun_justT.png', dpi=300)"
   ]
  },
  {
   "cell_type": "code",
   "execution_count": null,
   "metadata": {},
   "outputs": [],
   "source": []
  }
 ],
 "metadata": {
  "kernelspec": {
   "display_name": "Python 3",
   "language": "python",
   "name": "python3"
  },
  "language_info": {
   "codemirror_mode": {
    "name": "ipython",
    "version": 3
   },
   "file_extension": ".py",
   "mimetype": "text/x-python",
   "name": "python",
   "nbconvert_exporter": "python",
   "pygments_lexer": "ipython3",
   "version": "3.7.6"
  }
 },
 "nbformat": 4,
 "nbformat_minor": 2
}
