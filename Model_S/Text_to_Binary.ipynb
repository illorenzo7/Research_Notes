{
 "cells": [
  {
   "cell_type": "code",
   "execution_count": 1,
   "id": "26e3018f",
   "metadata": {},
   "outputs": [],
   "source": [
    "# read in ASCII data\n",
    "import numpy as np\n",
    "import matplotlib.pyplot as plt\n",
    "import sys, os\n",
    "import pickle\n",
    "sys.path.append(os.environ['raco'])\n",
    "from common import dotdict, g_univ\n",
    "f = open(\"Model_S.txt\", \"r\")\n",
    "lines = f.readlines()\n",
    "f.close()"
   ]
  },
  {
   "cell_type": "code",
   "execution_count": 2,
   "id": "f23a7a20",
   "metadata": {},
   "outputs": [
    {
     "data": {
      "text/plain": [
       "['L5BI.D.15.PRES.950912.AARHUS\\n',\n",
       " 'Level 5 physics, present Sun. (OPAL, LivermoreEOS ). He, Z diffusion.\\n',\n",
       " 'Model S (Christensen-Dalsgaard et al. 1996)\\n',\n",
       " 'https://phys.au.dk/~jcd/solar_models/\\n',\n",
       " '\\n',\n",
       " '      2482        15        25       210\\n',\n",
       " ' 1.989000000E+33 6.959906258E+10 3.845999350E+33 1.962800000E-02 7.090812183E-01\\n',\n",
       " ' 1.990493515E+00 2.249999861E+00 6.172840271E-03 1.000000000E+00 1.000000000E+00\\n',\n",
       " '-1.370674456E+02-1.662854139E+02 4.600000017E+09 5.777503437E+03 6.672320000E-08\\n',\n",
       " ' 6.964865599E+10 8.394798002E-11 4.348192658E+03 9.455873862E+02 3.292484968E-09\\n']"
      ]
     },
     "execution_count": 2,
     "metadata": {},
     "output_type": "execute_result"
    }
   ],
   "source": [
    "# determine where data starts\n",
    "lines[:10]"
   ]
  },
  {
   "cell_type": "code",
   "execution_count": 3,
   "id": "1f632472",
   "metadata": {},
   "outputs": [
    {
     "data": {
      "text/plain": [
       "[' 1.989000000E+33 6.959906258E+10 3.845999350E+33 1.962800000E-02 7.090812183E-01\\n',\n",
       " ' 1.990493515E+00 2.249999861E+00 6.172840271E-03 1.000000000E+00 1.000000000E+00\\n',\n",
       " '-1.370674456E+02-1.662854139E+02 4.600000017E+09 5.777503437E+03 6.672320000E-08\\n',\n",
       " ' 6.964865599E+10 8.394798002E-11 4.348192658E+03 9.455873862E+02 3.292484968E-09\\n']"
      ]
     },
     "execution_count": 3,
     "metadata": {},
     "output_type": "execute_result"
    }
   ],
   "source": [
    "lines[6:10]"
   ]
  },
  {
   "cell_type": "code",
   "execution_count": 4,
   "id": "a8fe0417",
   "metadata": {},
   "outputs": [
    {
     "data": {
      "text/plain": [
       "['1.989000000E+33',\n",
       " '6.959906258E+10',\n",
       " '3.845999350E+33',\n",
       " '1.962800000E-02',\n",
       " '7.090812183E-01']"
      ]
     },
     "execution_count": 4,
     "metadata": {},
     "output_type": "execute_result"
    }
   ],
   "source": [
    "lines[6].split()"
   ]
  },
  {
   "cell_type": "code",
   "execution_count": 5,
   "id": "0cef6ae7",
   "metadata": {},
   "outputs": [
    {
     "data": {
      "text/plain": [
       "62065.0"
      ]
     },
     "execution_count": 5,
     "metadata": {},
     "output_type": "execute_result"
    }
   ],
   "source": [
    "# actually doesn't work because the negative values \"touch\" values to their left\n",
    "# maybe just split things up by each number (has character width 16)\n",
    "st = ''\n",
    "for line in lines[6:]: \n",
    "    st += line.replace('\\n', '')\n",
    "len(st)/16"
   ]
  },
  {
   "cell_type": "code",
   "execution_count": 6,
   "id": "38534ba4",
   "metadata": {},
   "outputs": [
    {
     "name": "stdout",
     "output_type": "stream",
     "text": [
      "62065\n"
     ]
    }
   ],
   "source": [
    "ndata = 62065\n",
    "data = []\n",
    "for i in range(ndata):\n",
    "    data.append(float(st[16*i:16*(i+1)]))\n",
    "data = np.array(data)\n",
    "print(len(data))"
   ]
  },
  {
   "cell_type": "code",
   "execution_count": 7,
   "id": "e3888187",
   "metadata": {},
   "outputs": [
    {
     "name": "stdout",
     "output_type": "stream",
     "text": [
      "[' 1.989000000E+33 6.959906258E+10 3.845999350E+33 1.962800000E-02 7.090812183E-01\\n', ' 1.990493515E+00 2.249999861E+00 6.172840271E-03 1.000000000E+00 1.000000000E+00\\n']\n",
      "[1.98900000e+33 6.95990626e+10 3.84599935e+33 1.96280000e-02\n",
      " 7.09081218e-01 1.99049352e+00 2.24999986e+00 6.17284027e-03\n",
      " 1.00000000e+00 1.00000000e+00]\n"
     ]
    }
   ],
   "source": [
    "# compare first and last data vals\n",
    "print (lines[6:8])\n",
    "print (data[:10])"
   ]
  },
  {
   "cell_type": "code",
   "execution_count": 8,
   "id": "61c57585",
   "metadata": {},
   "outputs": [
    {
     "name": "stdout",
     "output_type": "stream",
     "text": [
      "['-2.754367381E-18 2.028474614E-02 6.959906258E+10-1.390014546E-01 0.000000000E+00\\n', ' 7.484873918E-06 0.000000000E+00 0.000000000E+00 5.132910511E-03 9.159690889E-03']\n",
      "[-2.75436738e-18  2.02847461e-02  6.95990626e+10 -1.39001455e-01\n",
      "  0.00000000e+00  7.48487392e-06  0.00000000e+00  0.00000000e+00\n",
      "  5.13291051e-03  9.15969089e-03]\n"
     ]
    }
   ],
   "source": [
    "print (lines[-2:])\n",
    "print (data[-10:])"
   ]
  },
  {
   "cell_type": "code",
   "execution_count": 9,
   "id": "26960183",
   "metadata": {},
   "outputs": [],
   "source": [
    "# all looks good!"
   ]
  },
  {
   "cell_type": "code",
   "execution_count": 10,
   "id": "e71828e5",
   "metadata": {},
   "outputs": [
    {
     "data": {
      "text/plain": [
       "206.83333333333334"
      ]
     },
     "execution_count": 10,
     "metadata": {},
     "output_type": "execute_result"
    }
   ],
   "source": [
    "# separate into global variables\n",
    "glob = data[:15]\n",
    "profs = data[15:]\n",
    "len(profs)/300"
   ]
  },
  {
   "cell_type": "code",
   "execution_count": 11,
   "id": "54c5b74e",
   "metadata": {},
   "outputs": [
    {
     "data": {
      "text/plain": [
       "25.0"
      ]
     },
     "execution_count": 11,
     "metadata": {},
     "output_type": "execute_result"
    }
   ],
   "source": [
    "len(profs)/2482"
   ]
  },
  {
   "cell_type": "code",
   "execution_count": 12,
   "id": "17bc551f",
   "metadata": {},
   "outputs": [
    {
     "data": {
      "text/plain": [
       "array([6.96486560e+10, 6.96481085e+10, 6.96475567e+10, ...,\n",
       "       5.81765728e+08, 5.77113851e+08, 1.00000000e-49])"
      ]
     },
     "execution_count": 12,
     "metadata": {},
     "output_type": "execute_result"
    }
   ],
   "source": [
    "nr = 2482\n",
    "nq = 25\n",
    "profs[::nq]"
   ]
  },
  {
   "cell_type": "code",
   "execution_count": 13,
   "id": "d17707bc",
   "metadata": {},
   "outputs": [
    {
     "data": {
      "text/plain": [
       "array([[ 6.96486560e+10,  6.96481085e+10,  6.96475567e+10, ...,\n",
       "         5.81765728e+08,  5.77113851e+08,  1.00000000e-49],\n",
       "       [ 8.39479800e-11,  8.38913253e-11,  8.38311537e-11, ...,\n",
       "        -9.66079749e+00, -9.68482704e+00, -1.38155106e+02],\n",
       "       [ 4.34819266e+03,  4.34848841e+03,  4.34881643e+03, ...,\n",
       "         1.56435238e+07,  1.56439097e+07,  1.56678808e+07],\n",
       "       ...,\n",
       "       [ 0.00000000e+00,  0.00000000e+00,  0.00000000e+00, ...,\n",
       "         0.00000000e+00,  0.00000000e+00,  0.00000000e+00],\n",
       "       [ 4.58774841e-03,  4.58774841e-03,  4.58774841e-03, ...,\n",
       "         5.11364248e-03,  5.11394851e-03,  5.13291051e-03],\n",
       "       [ 9.78239892e-03,  9.78239892e-03,  9.78239892e-03, ...,\n",
       "         9.18169968e-03,  9.18135012e-03,  9.15969089e-03]])"
      ]
     },
     "execution_count": 13,
     "metadata": {},
     "output_type": "execute_result"
    }
   ],
   "source": [
    "profs2 = np.zeros((nq, nr))\n",
    "for iq in range(nq):\n",
    "    profs2[iq, :] = profs[iq::nq]\n",
    "profs2"
   ]
  },
  {
   "cell_type": "code",
   "execution_count": 14,
   "id": "5282c570",
   "metadata": {},
   "outputs": [],
   "source": [
    "# now lets package the output as a dictionary\n",
    "di = dotdict()\n",
    "di.msun = glob[0]\n",
    "di.rsun = glob[1]\n",
    "di.lsun = glob[2]\n",
    "di.zsun = glob[3]\n",
    "di.x0sun = glob[4]\n",
    "di.alphasun = glob[5]\n",
    "di.agesun = glob[12]"
   ]
  },
  {
   "cell_type": "code",
   "execution_count": 15,
   "id": "f89ae69b",
   "metadata": {},
   "outputs": [
    {
     "data": {
      "text/plain": [
       "{'msun': 1.989e+33,\n",
       " 'rsun': 69599062580.0,\n",
       " 'lsun': 3.84599935e+33,\n",
       " 'zsun': 0.019628,\n",
       " 'x0sun': 0.7090812183,\n",
       " 'alphasun': 1.990493515,\n",
       " 'agesun': 4600000017.0}"
      ]
     },
     "execution_count": 15,
     "metadata": {},
     "output_type": "execute_result"
    }
   ],
   "source": [
    "di"
   ]
  },
  {
   "cell_type": "code",
   "execution_count": 16,
   "id": "5337cebc",
   "metadata": {},
   "outputs": [],
   "source": [
    "# pretty good..."
   ]
  },
  {
   "cell_type": "code",
   "execution_count": 17,
   "id": "60566315",
   "metadata": {},
   "outputs": [],
   "source": [
    "di.rr = profs2[0]\n",
    "di.lnq = profs2[1]"
   ]
  },
  {
   "cell_type": "code",
   "execution_count": 18,
   "id": "b3c44381",
   "metadata": {},
   "outputs": [
    {
     "data": {
      "text/plain": [
       "(0.0, 300000.0)"
      ]
     },
     "execution_count": 18,
     "metadata": {},
     "output_type": "execute_result"
    },
    {
     "data": {
      "image/png": "[encoded data removed]",
      "text/plain": [
       "<Figure size 432x288 with 1 Axes>"
      ]
     },
     "metadata": {
      "needs_background": "light"
     },
     "output_type": "display_data"
    }
   ],
   "source": [
    "# sense check I understand what's happening\n",
    "di.g = g_univ*np.exp(di.lnq)*di.msun/di.rr**2\n",
    "plt.plot(di.rr, di.g)\n",
    "plt.ylim(0,3e5)"
   ]
  },
  {
   "cell_type": "code",
   "execution_count": 19,
   "id": "1eb4dcaf",
   "metadata": {},
   "outputs": [],
   "source": [
    "# okay looks fine (except at r=0)"
   ]
  },
  {
   "cell_type": "code",
   "execution_count": 20,
   "id": "7223d760",
   "metadata": {},
   "outputs": [],
   "source": [
    "di.tmp = profs2[2]\n",
    "di.prs = profs2[3]\n",
    "di.rho = profs2[4]\n",
    "di.xfrac = profs2[5] # hydrogen per mass\n",
    "di.lum = profs2[6]\n",
    "di.opa = profs2[7]\n",
    "di.eps = profs2[8] # nuclear generation rate\n",
    "di.gam1 = profs2[9] # first adiabatic exponent (dlnp/dlnrho)_ad\n",
    "di.gamad = profs2[10] # adiabatic gradient\n",
    "di.delta = profs2[11] # coeff. vol. expansion: -(dlnrho/dlnT)_p\n",
    "di.cp = profs2[12] # pressure specific heat\n",
    "di.mue = 1./profs2[13] # mean mol. weight of electrons\n",
    "amu = 1.66054e-24\n",
    "di.ne = 1/(amu*di.mue)\n",
    "di.dsdr = di.cp/di.rr*profs2[14]\n",
    "di.zfrac = profs[16]"
   ]
  },
  {
   "cell_type": "code",
   "execution_count": 21,
   "id": "8d0ceaeb",
   "metadata": {},
   "outputs": [],
   "source": [
    "f = open(\"Model_S.pkl\", \"wb\")\n",
    "pickle.dump(di.copy(), f, protocol=4)\n",
    "f.close()"
   ]
  },
  {
   "cell_type": "code",
   "execution_count": null,
   "id": "6eb215a8",
   "metadata": {},
   "outputs": [],
   "source": []
  }
 ],
 "metadata": {
  "kernelspec": {
   "display_name": "Python 3",
   "language": "python",
   "name": "python3"
  },
  "language_info": {
   "codemirror_mode": {
    "name": "ipython",
    "version": 3
   },
   "file_extension": ".py",
   "mimetype": "text/x-python",
   "name": "python",
   "nbconvert_exporter": "python",
   "pygments_lexer": "ipython3",
   "version": "3.8.5"
  }
 },
 "nbformat": 4,
 "nbformat_minor": 5
}
